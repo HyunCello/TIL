{
 "cells": [
  {
   "cell_type": "code",
   "execution_count": 2,
   "metadata": {},
   "outputs": [],
   "source": [
    "from sklearn import datasets\n",
    "from sklearn.preprocessing import StandardScaler\n",
    "from sklearn.model_selection import train_test_split\n",
    "\n",
    "from sklearn.manifold import LocallyLinearEmbedding\n",
    "\n",
    "import pandas as pd\n",
    "import matplotlib.pyplot as plt\n",
    "\n",
    "from sklearn.ensemble import RandomForestClassifier\n",
    "from sklearn.metrics import accuracy_score"
   ]
  },
  {
   "cell_type": "code",
   "execution_count": 3,
   "metadata": {},
   "outputs": [],
   "source": [
    "# 데이터 불러오기\n",
    "raw_wine = datasets.load_wine()"
   ]
  },
  {
   "cell_type": "code",
   "execution_count": 4,
   "metadata": {},
   "outputs": [],
   "source": [
    "# 피처, 타깃 데이터 지정\n",
    "x = raw_wine.data\n",
    "y = raw_wine.target"
   ]
  },
  {
   "cell_type": "code",
   "execution_count": 5,
   "metadata": {},
   "outputs": [],
   "source": [
    "# 트레이닝 / 테스트 데이터 분할\n",
    "x_tn, x_te, y_tn, y_te = train_test_split(x,y,random_state = 1)"
   ]
  },
  {
   "cell_type": "code",
   "execution_count": 7,
   "metadata": {},
   "outputs": [],
   "source": [
    "# 데이터 표준화\n",
    "std_scale = StandardScaler()\n",
    "std_scale.fit(x_tn)\n",
    "x_tn_std = std_scale.transform(x_tn)\n",
    "x_te_std = std_scale.transform(x_te)"
   ]
  },
  {
   "cell_type": "code",
   "execution_count": 22,
   "metadata": {},
   "outputs": [],
   "source": [
    "# LLE 적합\n",
    "lle = LocallyLinearEmbedding(n_components = 2)                  # LLE 모형 설정, n_components : 변환시킬 차원 수\n",
    "lle.fit(x_tn_std, y_tn)                                         # 트레이닝 데이터를 이용해 적합\n",
    "x_tn_lle = lle.transform(x_tn_std)                              # 표준화 된 트레이닝 피처 데이터를 LLE를 이용해 변형\n",
    "x_te_lle = lle.transform(x_te_std)                              # 표준화 된 테스트 피처 데이터를 LLE를 이용해 변형"
   ]
  },
  {
   "cell_type": "code",
   "execution_count": 23,
   "metadata": {},
   "outputs": [
    {
     "name": "stdout",
     "output_type": "stream",
     "text": [
      "(133, 13)\n",
      "(133, 2)\n"
     ]
    }
   ],
   "source": [
    "# LLE 적용 전후 데이터 차원 비교\n",
    "print(x_tn_std.shape)                                           # LLE 적용 전 13차원 데이터가 133개 존재 \n",
    "print(x_tn_lle.shape)                                           # LLE 적용 후 2차원 데이터가 133개 존재"
   ]
  },
  {
   "cell_type": "code",
   "execution_count": 24,
   "metadata": {},
   "outputs": [
    {
     "name": "stdout",
     "output_type": "stream",
     "text": [
      "[[ 0.10370077  0.03797149]\n",
      " [ 0.07222626  0.00764776]\n",
      " [ 0.11291288  0.05930921]\n",
      " [ 0.11560401  0.06205209]\n",
      " [ 0.11854756  0.06719633]\n",
      " [-0.02664269 -0.13181186]\n",
      " [-0.10501921  0.07537654]\n",
      " [-0.10326081  0.07047313]\n",
      " [ 0.10811266  0.04689056]\n",
      " [-0.04377827 -0.09418701]\n",
      " [ 0.0712414   0.01801874]\n",
      " [ 0.13033709  0.08810276]\n",
      " [ 0.02991311 -0.04069974]\n",
      " [-0.07898669  0.01497572]\n",
      " [ 0.03473125 -0.05744147]\n",
      " [ 0.01943026 -0.04529514]\n",
      " [ 0.11959649  0.07007802]\n",
      " [-0.10317351  0.07114343]\n",
      " [-0.02752016 -0.14962908]\n",
      " [-0.1164511   0.10200801]\n",
      " [ 0.10508563  0.04186687]\n",
      " [-0.01462819 -0.16313682]\n",
      " [ 0.06810266 -0.0169578 ]\n",
      " [-0.01732533 -0.16242923]\n",
      " [ 0.11454199  0.05901053]\n",
      " [-0.09625792  0.05485706]\n",
      " [-0.11013016  0.08772677]\n",
      " [-0.10843424  0.08356562]\n",
      " [-0.10619192  0.07755468]\n",
      " [-0.08729218  0.04167607]\n",
      " [-0.03682447 -0.05761368]\n",
      " [ 0.09367018  0.02624216]\n",
      " [-0.10295085  0.06762962]\n",
      " [ 0.11999055  0.07023365]\n",
      " [-0.06361883 -0.0199435 ]\n",
      " [-0.11550832  0.09903396]\n",
      " [ 0.11279934  0.05534145]\n",
      " [-0.01480272 -0.14963322]\n",
      " [ 0.09097877  0.0177418 ]\n",
      " [-0.11129768  0.08887578]\n",
      " [-0.06350492 -0.02242311]\n",
      " [ 0.06246531 -0.02636424]\n",
      " [ 0.11911483  0.06843243]\n",
      " [-0.00792097 -0.12221016]\n",
      " [-0.03631181 -0.12179878]\n",
      " [-0.02579461 -0.16485912]\n",
      " [ 0.09295664  0.02351943]\n",
      " [ 0.03188792 -0.07080559]\n",
      " [ 0.06818446 -0.01439848]\n",
      " [-0.05730272 -0.05525765]\n",
      " [-0.09883839  0.05929349]\n",
      " [-0.01586358 -0.17146571]\n",
      " [-0.01672269 -0.17041903]\n",
      " [-0.02204577 -0.1723805 ]\n",
      " [ 0.06678143  0.01426048]\n",
      " [ 0.11436298  0.0595111 ]\n",
      " [ 0.10260414  0.0373604 ]\n",
      " [ 0.0997909   0.03011605]\n",
      " [-0.11259142  0.09204803]\n",
      " [ 0.09885983  0.02607939]\n",
      " [-0.07858605  0.00082623]\n",
      " [-0.084302    0.0229665 ]\n",
      " [-0.10603904  0.07684319]\n",
      " [ 0.09496388  0.02139363]\n",
      " [-0.02757692 -0.09910238]\n",
      " [ 0.12166793  0.07041667]\n",
      " [-0.01814073 -0.17633886]\n",
      " [-0.01530843 -0.15877534]\n",
      " [ 0.11452847  0.05834804]\n",
      " [-0.10320436  0.07020295]\n",
      " [-0.01613968 -0.16929274]\n",
      " [-0.0193291  -0.10716739]\n",
      " [-0.12046407  0.11290301]\n",
      " [-0.10110371  0.06439205]\n",
      " [-0.02998362 -0.14469412]\n",
      " [ 0.04902972 -0.04338483]\n",
      " [-0.02154733 -0.17381898]\n",
      " [-0.09971112  0.0625639 ]\n",
      " [-0.10375299  0.0710789 ]\n",
      " [-0.0288432  -0.10242084]\n",
      " [ 0.11466711  0.06136667]\n",
      " [-0.03040775 -0.14349819]\n",
      " [ 0.06825681 -0.01840047]\n",
      " [-0.09935535  0.05653994]\n",
      " [ 0.04446691 -0.05338093]\n",
      " [-0.01740723 -0.14034382]\n",
      " [ 0.11790976  0.06591575]\n",
      " [ 0.12119223  0.07147328]\n",
      " [-0.00269915 -0.10647415]\n",
      " [ 0.0562949  -0.03606248]\n",
      " [ 0.12629369  0.07981134]\n",
      " [ 0.11811673  0.06662161]\n",
      " [-0.10602982  0.07713197]\n",
      " [ 0.11456055  0.05912476]\n",
      " [-0.12114437  0.11396084]\n",
      " [-0.10363782  0.0710784 ]\n",
      " [ 0.12048444  0.07130553]\n",
      " [ 0.09123947  0.02964363]\n",
      " [-0.01909976 -0.13209886]\n",
      " [-0.10249116  0.06678007]\n",
      " [ 0.10671965  0.04489305]\n",
      " [-0.03210618 -0.05510616]\n",
      " [-0.02568002 -0.16011489]\n",
      " [ 0.1074142   0.04210225]\n",
      " [ 0.12077344  0.07166584]\n",
      " [ 0.11909469  0.06587289]\n",
      " [-0.04519954 -0.03071079]\n",
      " [ 0.03121498 -0.0709812 ]\n",
      " [ 0.09360186  0.02404615]\n",
      " [-0.10553282  0.07566127]\n",
      " [-0.11051108  0.08804668]\n",
      " [-0.03505464 -0.1190506 ]\n",
      " [-0.03553034  0.03426303]\n",
      " [-0.01487209 -0.0527306 ]\n",
      " [ 0.11017831  0.05066087]\n",
      " [-0.11020285  0.08673048]\n",
      " [-0.10731603  0.07979049]\n",
      " [-0.10353821  0.07064577]\n",
      " [-0.10982747  0.0860409 ]\n",
      " [-0.10483871  0.07207522]\n",
      " [-0.0092534  -0.14381871]\n",
      " [ 0.0903019   0.01575679]\n",
      " [ 0.12420843  0.07796707]\n",
      " [-0.06826823 -0.01537622]\n",
      " [ 0.05841631 -0.02674777]\n",
      " [-0.04361163 -0.10066293]\n",
      " [-0.11196061  0.09136494]\n",
      " [-0.00382491 -0.1014684 ]\n",
      " [-0.12246751  0.11758882]\n",
      " [-0.10674483  0.07740897]\n",
      " [ 0.00163096 -0.11905171]\n",
      " [-0.11199196  0.09147604]\n",
      " [ 0.10587132  0.04226829]]\n"
     ]
    }
   ],
   "source": [
    "# 임베딩 벡터\n",
    "print(lle.embedding_)                                      "
   ]
  },
  {
   "cell_type": "code",
   "execution_count": 25,
   "metadata": {},
   "outputs": [
    {
     "data": {
      "text/html": "<div>\n<style scoped>\n    .dataframe tbody tr th:only-of-type {\n        vertical-align: middle;\n    }\n\n    .dataframe tbody tr th {\n        vertical-align: top;\n    }\n\n    .dataframe thead th {\n        text-align: right;\n    }\n</style>\n<table border=\"1\" class=\"dataframe\">\n  <thead>\n    <tr style=\"text-align: right;\">\n      <th></th>\n      <th>lle_comp1</th>\n      <th>lle_comp2</th>\n      <th>target</th>\n    </tr>\n  </thead>\n  <tbody>\n    <tr>\n      <th>0</th>\n      <td>0.103667</td>\n      <td>0.037909</td>\n      <td>0</td>\n    </tr>\n    <tr>\n      <th>1</th>\n      <td>0.072231</td>\n      <td>0.007653</td>\n      <td>1</td>\n    </tr>\n    <tr>\n      <th>2</th>\n      <td>0.112879</td>\n      <td>0.059241</td>\n      <td>0</td>\n    </tr>\n    <tr>\n      <th>3</th>\n      <td>0.115604</td>\n      <td>0.062051</td>\n      <td>0</td>\n    </tr>\n    <tr>\n      <th>4</th>\n      <td>0.118543</td>\n      <td>0.067187</td>\n      <td>0</td>\n    </tr>\n  </tbody>\n</table>\n</div>",
      "text/plain": "   lle_comp1  lle_comp2  target\n0   0.103667   0.037909       0\n1   0.072231   0.007653       1\n2   0.112879   0.059241       0\n3   0.115604   0.062051       0\n4   0.118543   0.067187       0"
     },
     "execution_count": 25,
     "metadata": {},
     "output_type": "execute_result"
    }
   ],
   "source": [
    "# LLE 적용 데이터 프레임\n",
    "lle_columns = ['lle_comp1', 'lle_comp2']\n",
    "x_tn_lle_df = pd.DataFrame(x_tn_lle, columns = lle_columns)\n",
    "x_tn_lle_df['target'] = y_tn\n",
    "x_tn_lle_df.head(5)"
   ]
  },
  {
   "cell_type": "code",
   "execution_count": 26,
   "metadata": {},
   "outputs": [
    {
     "data": {
      "image/png": "[encoded data removed]",
      "text/plain": "<Figure size 432x288 with 1 Axes>"
     },
     "metadata": {
      "needs_background": "light"
     },
     "output_type": "display_data"
    }
   ],
   "source": [
    "# LLE 시각화\n",
    "df = x_tn_lle_df\n",
    "markers = ['o','x','^']\n",
    "\n",
    "for i, mark in enumerate(markers):\n",
    "    x_i = df[df['target'] == i]\n",
    "    target_i = raw_wine.target_names[i]\n",
    "    x1 = x_i['lle_comp1']\n",
    "    x2 = x_i['lle_comp2']\n",
    "    plt.scatter(x1,x2,marker=mark,label=target_i)\n",
    "\n",
    "plt.xlabel('lle_component1')\n",
    "plt.ylabel('lle_component2')\n",
    "plt.legend()\n",
    "plt.show()"
   ]
  },
  {
   "cell_type": "code",
   "execution_count": 27,
   "metadata": {},
   "outputs": [],
   "source": [
    "# LLE 적용 후 랜덤 포레스트 학습 및 예측\n",
    "clf_rf = RandomForestClassifier(max_depth = 2, random_state = 0)\n",
    "\n",
    "clf_rf.fit(x_tn_lle, y_tn)                                        # 설정된 모형에 LLE가 적용된 트레이닝 데이터를 넣고 적합\n",
    "pred_rf_lle = clf_rf.predict(x_te_lle)                            # 적합된 모형을 이용해 예측값을 구함"
   ]
  },
  {
   "cell_type": "code",
   "execution_count": 28,
   "metadata": {},
   "outputs": [
    {
     "name": "stdout",
     "output_type": "stream",
     "text": [
      "0.9333333333333333\n"
     ]
    }
   ],
   "source": [
    "# LLE 적용 후 정확도\n",
    "accuracy_lle = accuracy_score(y_te, pred_rf_lle)\n",
    "print(accuracy_lle)"
   ]
  }
 ],
 "metadata": {
  "interpreter": {
   "hash": "ea85bf4dd7ab1072469ef283dbf62ca7e4bb5f7d2e803f6f83bfb4d52eca651d"
  },
  "kernelspec": {
   "display_name": "Python 3.8.5 64-bit ('py385': conda)",
   "name": "python3"
  },
  "language_info": {
   "codemirror_mode": {
    "name": "ipython",
    "version": 3
   },
   "file_extension": ".py",
   "mimetype": "text/x-python",
   "name": "python",
   "nbconvert_exporter": "python",
   "pygments_lexer": "ipython3",
   "version": "3.8.5"
  },
  "orig_nbformat": 2
 },
 "nbformat": 4,
 "nbformat_minor": 2
}