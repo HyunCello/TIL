{
  "nbformat": 4,
  "nbformat_minor": 0,
  "metadata": {
    "colab": {
      "name": "MLP_using_pytorch.ipynb",
      "provenance": []
    },
    "kernelspec": {
      "name": "python3",
      "display_name": "Python 3"
    },
    "language_info": {
      "name": "python"
    },
    "widgets": {
      "application/vnd.jupyter.widget-state+json": {
        "3313f001f1354caab039ed09e7e838ac": {
          "model_module": "@jupyter-widgets/controls",
          "model_name": "HBoxModel",
          "model_module_version": "1.5.0",
          "state": {
            "_view_name": "HBoxView",
            "_dom_classes": [],
            "_model_name": "HBoxModel",
            "_view_module": "@jupyter-widgets/controls",
            "_model_module_version": "1.5.0",
            "_view_count": null,
            "_view_module_version": "1.5.0",
            "box_style": "",
            "layout": "IPY_MODEL_a3303ebe90324265b6a2192b962c6452",
            "_model_module": "@jupyter-widgets/controls",
            "children": [
              "IPY_MODEL_1d2a950beaa44cc086693c7907efd906",
              "IPY_MODEL_00da1223b4ee4423b3f2ae186288b45a",
              "IPY_MODEL_baa382bbbb354dd4af62485e8b1b59b2"
            ]
          }
        },
        "a3303ebe90324265b6a2192b962c6452": {
          "model_module": "@jupyter-widgets/base",
          "model_name": "LayoutModel",
          "model_module_version": "1.2.0",
          "state": {
            "_view_name": "LayoutView",
            "grid_template_rows": null,
            "right": null,
            "justify_content": null,
            "_view_module": "@jupyter-widgets/base",
            "overflow": null,
            "_model_module_version": "1.2.0",
            "_view_count": null,
            "flex_flow": null,
            "width": null,
            "min_width": null,
            "border": null,
            "align_items": null,
            "bottom": null,
            "_model_module": "@jupyter-widgets/base",
            "top": null,
            "grid_column": null,
            "overflow_y": null,
            "overflow_x": null,
            "grid_auto_flow": null,
            "grid_area": null,
            "grid_template_columns": null,
            "flex": null,
            "_model_name": "LayoutModel",
            "justify_items": null,
            "grid_row": null,
            "max_height": null,
            "align_content": null,
            "visibility": null,
            "align_self": null,
            "height": null,
            "min_height": null,
            "padding": null,
            "grid_auto_rows": null,
            "grid_gap": null,
            "max_width": null,
            "order": null,
            "_view_module_version": "1.2.0",
            "grid_template_areas": null,
            "object_position": null,
            "object_fit": null,
            "grid_auto_columns": null,
            "margin": null,
            "display": null,
            "left": null
          }
        },
        "1d2a950beaa44cc086693c7907efd906": {
          "model_module": "@jupyter-widgets/controls",
          "model_name": "HTMLModel",
          "model_module_version": "1.5.0",
          "state": {
            "_view_name": "HTMLView",
            "style": "IPY_MODEL_4df400f40c744d0b842b64e1a92a2860",
            "_dom_classes": [],
            "description": "",
            "_model_name": "HTMLModel",
            "placeholder": "​",
            "_view_module": "@jupyter-widgets/controls",
            "_model_module_version": "1.5.0",
            "value": "",
            "_view_count": null,
            "_view_module_version": "1.5.0",
            "description_tooltip": null,
            "_model_module": "@jupyter-widgets/controls",
            "layout": "IPY_MODEL_8a4e78b213d74d60a80237b35e39b771"
          }
        },
        "00da1223b4ee4423b3f2ae186288b45a": {
          "model_module": "@jupyter-widgets/controls",
          "model_name": "FloatProgressModel",
          "model_module_version": "1.5.0",
          "state": {
            "_view_name": "ProgressView",
            "style": "IPY_MODEL_4082c52b8b35427db81dec48f131ea4b",
            "_dom_classes": [],
            "description": "",
            "_model_name": "FloatProgressModel",
            "bar_style": "success",
            "max": 9912422,
            "_view_module": "@jupyter-widgets/controls",
            "_model_module_version": "1.5.0",
            "value": 9912422,
            "_view_count": null,
            "_view_module_version": "1.5.0",
            "orientation": "horizontal",
            "min": 0,
            "description_tooltip": null,
            "_model_module": "@jupyter-widgets/controls",
            "layout": "IPY_MODEL_6e04efeb6a9b43288cc92f7594f8b67d"
          }
        },
        "baa382bbbb354dd4af62485e8b1b59b2": {
          "model_module": "@jupyter-widgets/controls",
          "model_name": "HTMLModel",
          "model_module_version": "1.5.0",
          "state": {
            "_view_name": "HTMLView",
            "style": "IPY_MODEL_7a7d131697dc4577b3e4705062d26f5e",
            "_dom_classes": [],
            "description": "",
            "_model_name": "HTMLModel",
            "placeholder": "​",
            "_view_module": "@jupyter-widgets/controls",
            "_model_module_version": "1.5.0",
            "value": " 9913344/? [00:00&lt;00:00, 50509271.65it/s]",
            "_view_count": null,
            "_view_module_version": "1.5.0",
            "description_tooltip": null,
            "_model_module": "@jupyter-widgets/controls",
            "layout": "IPY_MODEL_5b7b440c7fb3438dbd1e12d1c4312a86"
          }
        },
        "4df400f40c744d0b842b64e1a92a2860": {
          "model_module": "@jupyter-widgets/controls",
          "model_name": "DescriptionStyleModel",
          "model_module_version": "1.5.0",
          "state": {
            "_view_name": "StyleView",
            "_model_name": "DescriptionStyleModel",
            "description_width": "",
            "_view_module": "@jupyter-widgets/base",
            "_model_module_version": "1.5.0",
            "_view_count": null,
            "_view_module_version": "1.2.0",
            "_model_module": "@jupyter-widgets/controls"
          }
        },
        "8a4e78b213d74d60a80237b35e39b771": {
          "model_module": "@jupyter-widgets/base",
          "model_name": "LayoutModel",
          "model_module_version": "1.2.0",
          "state": {
            "_view_name": "LayoutView",
            "grid_template_rows": null,
            "right": null,
            "justify_content": null,
            "_view_module": "@jupyter-widgets/base",
            "overflow": null,
            "_model_module_version": "1.2.0",
            "_view_count": null,
            "flex_flow": null,
            "width": null,
            "min_width": null,
            "border": null,
            "align_items": null,
            "bottom": null,
            "_model_module": "@jupyter-widgets/base",
            "top": null,
            "grid_column": null,
            "overflow_y": null,
            "overflow_x": null,
            "grid_auto_flow": null,
            "grid_area": null,
            "grid_template_columns": null,
            "flex": null,
            "_model_name": "LayoutModel",
            "justify_items": null,
            "grid_row": null,
            "max_height": null,
            "align_content": null,
            "visibility": null,
            "align_self": null,
            "height": null,
            "min_height": null,
            "padding": null,
            "grid_auto_rows": null,
            "grid_gap": null,
            "max_width": null,
            "order": null,
            "_view_module_version": "1.2.0",
            "grid_template_areas": null,
            "object_position": null,
            "object_fit": null,
            "grid_auto_columns": null,
            "margin": null,
            "display": null,
            "left": null
          }
        },
        "4082c52b8b35427db81dec48f131ea4b": {
          "model_module": "@jupyter-widgets/controls",
          "model_name": "ProgressStyleModel",
          "model_module_version": "1.5.0",
          "state": {
            "_view_name": "StyleView",
            "_model_name": "ProgressStyleModel",
            "description_width": "",
            "_view_module": "@jupyter-widgets/base",
            "_model_module_version": "1.5.0",
            "_view_count": null,
            "_view_module_version": "1.2.0",
            "bar_color": null,
            "_model_module": "@jupyter-widgets/controls"
          }
        },
        "6e04efeb6a9b43288cc92f7594f8b67d": {
          "model_module": "@jupyter-widgets/base",
          "model_name": "LayoutModel",
          "model_module_version": "1.2.0",
          "state": {
            "_view_name": "LayoutView",
            "grid_template_rows": null,
            "right": null,
            "justify_content": null,
            "_view_module": "@jupyter-widgets/base",
            "overflow": null,
            "_model_module_version": "1.2.0",
            "_view_count": null,
            "flex_flow": null,
            "width": null,
            "min_width": null,
            "border": null,
            "align_items": null,
            "bottom": null,
            "_model_module": "@jupyter-widgets/base",
            "top": null,
            "grid_column": null,
            "overflow_y": null,
            "overflow_x": null,
            "grid_auto_flow": null,
            "grid_area": null,
            "grid_template_columns": null,
            "flex": null,
            "_model_name": "LayoutModel",
            "justify_items": null,
            "grid_row": null,
            "max_height": null,
            "align_content": null,
            "visibility": null,
            "align_self": null,
            "height": null,
            "min_height": null,
            "padding": null,
            "grid_auto_rows": null,
            "grid_gap": null,
            "max_width": null,
            "order": null,
            "_view_module_version": "1.2.0",
            "grid_template_areas": null,
            "object_position": null,
            "object_fit": null,
            "grid_auto_columns": null,
            "margin": null,
            "display": null,
            "left": null
          }
        },
        "7a7d131697dc4577b3e4705062d26f5e": {
          "model_module": "@jupyter-widgets/controls",
          "model_name": "DescriptionStyleModel",
          "model_module_version": "1.5.0",
          "state": {
            "_view_name": "StyleView",
            "_model_name": "DescriptionStyleModel",
            "description_width": "",
            "_view_module": "@jupyter-widgets/base",
            "_model_module_version": "1.5.0",
            "_view_count": null,
            "_view_module_version": "1.2.0",
            "_model_module": "@jupyter-widgets/controls"
          }
        },
        "5b7b440c7fb3438dbd1e12d1c4312a86": {
          "model_module": "@jupyter-widgets/base",
          "model_name": "LayoutModel",
          "model_module_version": "1.2.0",
          "state": {
            "_view_name": "LayoutView",
            "grid_template_rows": null,
            "right": null,
            "justify_content": null,
            "_view_module": "@jupyter-widgets/base",
            "overflow": null,
            "_model_module_version": "1.2.0",
            "_view_count": null,
            "flex_flow": null,
            "width": null,
            "min_width": null,
            "border": null,
            "align_items": null,
            "bottom": null,
            "_model_module": "@jupyter-widgets/base",
            "top": null,
            "grid_column": null,
            "overflow_y": null,
            "overflow_x": null,
            "grid_auto_flow": null,
            "grid_area": null,
            "grid_template_columns": null,
            "flex": null,
            "_model_name": "LayoutModel",
            "justify_items": null,
            "grid_row": null,
            "max_height": null,
            "align_content": null,
            "visibility": null,
            "align_self": null,
            "height": null,
            "min_height": null,
            "padding": null,
            "grid_auto_rows": null,
            "grid_gap": null,
            "max_width": null,
            "order": null,
            "_view_module_version": "1.2.0",
            "grid_template_areas": null,
            "object_position": null,
            "object_fit": null,
            "grid_auto_columns": null,
            "margin": null,
            "display": null,
            "left": null
          }
        },
        "217b2d919d6645518e96c8ccb6eb725c": {
          "model_module": "@jupyter-widgets/controls",
          "model_name": "HBoxModel",
          "model_module_version": "1.5.0",
          "state": {
            "_view_name": "HBoxView",
            "_dom_classes": [],
            "_model_name": "HBoxModel",
            "_view_module": "@jupyter-widgets/controls",
            "_model_module_version": "1.5.0",
            "_view_count": null,
            "_view_module_version": "1.5.0",
            "box_style": "",
            "layout": "IPY_MODEL_85384ee1cd5a4756b6126afc96babda5",
            "_model_module": "@jupyter-widgets/controls",
            "children": [
              "IPY_MODEL_0500b3e0628348a8b7017706224bafd8",
              "IPY_MODEL_e098ca1ce1104fdeaf0c2ebde122c97c",
              "IPY_MODEL_df978944426d4355abd405d6f8a10102"
            ]
          }
        },
        "85384ee1cd5a4756b6126afc96babda5": {
          "model_module": "@jupyter-widgets/base",
          "model_name": "LayoutModel",
          "model_module_version": "1.2.0",
          "state": {
            "_view_name": "LayoutView",
            "grid_template_rows": null,
            "right": null,
            "justify_content": null,
            "_view_module": "@jupyter-widgets/base",
            "overflow": null,
            "_model_module_version": "1.2.0",
            "_view_count": null,
            "flex_flow": null,
            "width": null,
            "min_width": null,
            "border": null,
            "align_items": null,
            "bottom": null,
            "_model_module": "@jupyter-widgets/base",
            "top": null,
            "grid_column": null,
            "overflow_y": null,
            "overflow_x": null,
            "grid_auto_flow": null,
            "grid_area": null,
            "grid_template_columns": null,
            "flex": null,
            "_model_name": "LayoutModel",
            "justify_items": null,
            "grid_row": null,
            "max_height": null,
            "align_content": null,
            "visibility": null,
            "align_self": null,
            "height": null,
            "min_height": null,
            "padding": null,
            "grid_auto_rows": null,
            "grid_gap": null,
            "max_width": null,
            "order": null,
            "_view_module_version": "1.2.0",
            "grid_template_areas": null,
            "object_position": null,
            "object_fit": null,
            "grid_auto_columns": null,
            "margin": null,
            "display": null,
            "left": null
          }
        },
        "0500b3e0628348a8b7017706224bafd8": {
          "model_module": "@jupyter-widgets/controls",
          "model_name": "HTMLModel",
          "model_module_version": "1.5.0",
          "state": {
            "_view_name": "HTMLView",
            "style": "IPY_MODEL_e9ca1ba64db944ea9806eb8ad2dca123",
            "_dom_classes": [],
            "description": "",
            "_model_name": "HTMLModel",
            "placeholder": "​",
            "_view_module": "@jupyter-widgets/controls",
            "_model_module_version": "1.5.0",
            "value": "",
            "_view_count": null,
            "_view_module_version": "1.5.0",
            "description_tooltip": null,
            "_model_module": "@jupyter-widgets/controls",
            "layout": "IPY_MODEL_d7610add7cbb47a799f889904f4ca994"
          }
        },
        "e098ca1ce1104fdeaf0c2ebde122c97c": {
          "model_module": "@jupyter-widgets/controls",
          "model_name": "FloatProgressModel",
          "model_module_version": "1.5.0",
          "state": {
            "_view_name": "ProgressView",
            "style": "IPY_MODEL_a3b413dc574d4044aa1f09155739a4a0",
            "_dom_classes": [],
            "description": "",
            "_model_name": "FloatProgressModel",
            "bar_style": "success",
            "max": 28881,
            "_view_module": "@jupyter-widgets/controls",
            "_model_module_version": "1.5.0",
            "value": 28881,
            "_view_count": null,
            "_view_module_version": "1.5.0",
            "orientation": "horizontal",
            "min": 0,
            "description_tooltip": null,
            "_model_module": "@jupyter-widgets/controls",
            "layout": "IPY_MODEL_74697852b1154940be4c1f3154fd3d1e"
          }
        },
        "df978944426d4355abd405d6f8a10102": {
          "model_module": "@jupyter-widgets/controls",
          "model_name": "HTMLModel",
          "model_module_version": "1.5.0",
          "state": {
            "_view_name": "HTMLView",
            "style": "IPY_MODEL_898b81e977e9413ca5cd1b6bdd54e16a",
            "_dom_classes": [],
            "description": "",
            "_model_name": "HTMLModel",
            "placeholder": "​",
            "_view_module": "@jupyter-widgets/controls",
            "_model_module_version": "1.5.0",
            "value": " 29696/? [00:00&lt;00:00, 719030.46it/s]",
            "_view_count": null,
            "_view_module_version": "1.5.0",
            "description_tooltip": null,
            "_model_module": "@jupyter-widgets/controls",
            "layout": "IPY_MODEL_dd542c3057b84eb9968948181aed45bb"
          }
        },
        "e9ca1ba64db944ea9806eb8ad2dca123": {
          "model_module": "@jupyter-widgets/controls",
          "model_name": "DescriptionStyleModel",
          "model_module_version": "1.5.0",
          "state": {
            "_view_name": "StyleView",
            "_model_name": "DescriptionStyleModel",
            "description_width": "",
            "_view_module": "@jupyter-widgets/base",
            "_model_module_version": "1.5.0",
            "_view_count": null,
            "_view_module_version": "1.2.0",
            "_model_module": "@jupyter-widgets/controls"
          }
        },
        "d7610add7cbb47a799f889904f4ca994": {
          "model_module": "@jupyter-widgets/base",
          "model_name": "LayoutModel",
          "model_module_version": "1.2.0",
          "state": {
            "_view_name": "LayoutView",
            "grid_template_rows": null,
            "right": null,
            "justify_content": null,
            "_view_module": "@jupyter-widgets/base",
            "overflow": null,
            "_model_module_version": "1.2.0",
            "_view_count": null,
            "flex_flow": null,
            "width": null,
            "min_width": null,
            "border": null,
            "align_items": null,
            "bottom": null,
            "_model_module": "@jupyter-widgets/base",
            "top": null,
            "grid_column": null,
            "overflow_y": null,
            "overflow_x": null,
            "grid_auto_flow": null,
            "grid_area": null,
            "grid_template_columns": null,
            "flex": null,
            "_model_name": "LayoutModel",
            "justify_items": null,
            "grid_row": null,
            "max_height": null,
            "align_content": null,
            "visibility": null,
            "align_self": null,
            "height": null,
            "min_height": null,
            "padding": null,
            "grid_auto_rows": null,
            "grid_gap": null,
            "max_width": null,
            "order": null,
            "_view_module_version": "1.2.0",
            "grid_template_areas": null,
            "object_position": null,
            "object_fit": null,
            "grid_auto_columns": null,
            "margin": null,
            "display": null,
            "left": null
          }
        },
        "a3b413dc574d4044aa1f09155739a4a0": {
          "model_module": "@jupyter-widgets/controls",
          "model_name": "ProgressStyleModel",
          "model_module_version": "1.5.0",
          "state": {
            "_view_name": "StyleView",
            "_model_name": "ProgressStyleModel",
            "description_width": "",
            "_view_module": "@jupyter-widgets/base",
            "_model_module_version": "1.5.0",
            "_view_count": null,
            "_view_module_version": "1.2.0",
            "bar_color": null,
            "_model_module": "@jupyter-widgets/controls"
          }
        },
        "74697852b1154940be4c1f3154fd3d1e": {
          "model_module": "@jupyter-widgets/base",
          "model_name": "LayoutModel",
          "model_module_version": "1.2.0",
          "state": {
            "_view_name": "LayoutView",
            "grid_template_rows": null,
            "right": null,
            "justify_content": null,
            "_view_module": "@jupyter-widgets/base",
            "overflow": null,
            "_model_module_version": "1.2.0",
            "_view_count": null,
            "flex_flow": null,
            "width": null,
            "min_width": null,
            "border": null,
            "align_items": null,
            "bottom": null,
            "_model_module": "@jupyter-widgets/base",
            "top": null,
            "grid_column": null,
            "overflow_y": null,
            "overflow_x": null,
            "grid_auto_flow": null,
            "grid_area": null,
            "grid_template_columns": null,
            "flex": null,
            "_model_name": "LayoutModel",
            "justify_items": null,
            "grid_row": null,
            "max_height": null,
            "align_content": null,
            "visibility": null,
            "align_self": null,
            "height": null,
            "min_height": null,
            "padding": null,
            "grid_auto_rows": null,
            "grid_gap": null,
            "max_width": null,
            "order": null,
            "_view_module_version": "1.2.0",
            "grid_template_areas": null,
            "object_position": null,
            "object_fit": null,
            "grid_auto_columns": null,
            "margin": null,
            "display": null,
            "left": null
          }
        },
        "898b81e977e9413ca5cd1b6bdd54e16a": {
          "model_module": "@jupyter-widgets/controls",
          "model_name": "DescriptionStyleModel",
          "model_module_version": "1.5.0",
          "state": {
            "_view_name": "StyleView",
            "_model_name": "DescriptionStyleModel",
            "description_width": "",
            "_view_module": "@jupyter-widgets/base",
            "_model_module_version": "1.5.0",
            "_view_count": null,
            "_view_module_version": "1.2.0",
            "_model_module": "@jupyter-widgets/controls"
          }
        },
        "dd542c3057b84eb9968948181aed45bb": {
          "model_module": "@jupyter-widgets/base",
          "model_name": "LayoutModel",
          "model_module_version": "1.2.0",
          "state": {
            "_view_name": "LayoutView",
            "grid_template_rows": null,
            "right": null,
            "justify_content": null,
            "_view_module": "@jupyter-widgets/base",
            "overflow": null,
            "_model_module_version": "1.2.0",
            "_view_count": null,
            "flex_flow": null,
            "width": null,
            "min_width": null,
            "border": null,
            "align_items": null,
            "bottom": null,
            "_model_module": "@jupyter-widgets/base",
            "top": null,
            "grid_column": null,
            "overflow_y": null,
            "overflow_x": null,
            "grid_auto_flow": null,
            "grid_area": null,
            "grid_template_columns": null,
            "flex": null,
            "_model_name": "LayoutModel",
            "justify_items": null,
            "grid_row": null,
            "max_height": null,
            "align_content": null,
            "visibility": null,
            "align_self": null,
            "height": null,
            "min_height": null,
            "padding": null,
            "grid_auto_rows": null,
            "grid_gap": null,
            "max_width": null,
            "order": null,
            "_view_module_version": "1.2.0",
            "grid_template_areas": null,
            "object_position": null,
            "object_fit": null,
            "grid_auto_columns": null,
            "margin": null,
            "display": null,
            "left": null
          }
        },
        "063023d0d6f84a6c9f2bc9d335cc3f46": {
          "model_module": "@jupyter-widgets/controls",
          "model_name": "HBoxModel",
          "model_module_version": "1.5.0",
          "state": {
            "_view_name": "HBoxView",
            "_dom_classes": [],
            "_model_name": "HBoxModel",
            "_view_module": "@jupyter-widgets/controls",
            "_model_module_version": "1.5.0",
            "_view_count": null,
            "_view_module_version": "1.5.0",
            "box_style": "",
            "layout": "IPY_MODEL_1085237e0ceb4544bafe4b35d4758073",
            "_model_module": "@jupyter-widgets/controls",
            "children": [
              "IPY_MODEL_00474b16bf8b444d9d3fee82d444b5cd",
              "IPY_MODEL_bf17e671bc094b68884538c4dd596e25",
              "IPY_MODEL_16369d3eeeb84dc888124cb85407c1c3"
            ]
          }
        },
        "1085237e0ceb4544bafe4b35d4758073": {
          "model_module": "@jupyter-widgets/base",
          "model_name": "LayoutModel",
          "model_module_version": "1.2.0",
          "state": {
            "_view_name": "LayoutView",
            "grid_template_rows": null,
            "right": null,
            "justify_content": null,
            "_view_module": "@jupyter-widgets/base",
            "overflow": null,
            "_model_module_version": "1.2.0",
            "_view_count": null,
            "flex_flow": null,
            "width": null,
            "min_width": null,
            "border": null,
            "align_items": null,
            "bottom": null,
            "_model_module": "@jupyter-widgets/base",
            "top": null,
            "grid_column": null,
            "overflow_y": null,
            "overflow_x": null,
            "grid_auto_flow": null,
            "grid_area": null,
            "grid_template_columns": null,
            "flex": null,
            "_model_name": "LayoutModel",
            "justify_items": null,
            "grid_row": null,
            "max_height": null,
            "align_content": null,
            "visibility": null,
            "align_self": null,
            "height": null,
            "min_height": null,
            "padding": null,
            "grid_auto_rows": null,
            "grid_gap": null,
            "max_width": null,
            "order": null,
            "_view_module_version": "1.2.0",
            "grid_template_areas": null,
            "object_position": null,
            "object_fit": null,
            "grid_auto_columns": null,
            "margin": null,
            "display": null,
            "left": null
          }
        },
        "00474b16bf8b444d9d3fee82d444b5cd": {
          "model_module": "@jupyter-widgets/controls",
          "model_name": "HTMLModel",
          "model_module_version": "1.5.0",
          "state": {
            "_view_name": "HTMLView",
            "style": "IPY_MODEL_4b293045f08a415993f5aa970b9babfd",
            "_dom_classes": [],
            "description": "",
            "_model_name": "HTMLModel",
            "placeholder": "​",
            "_view_module": "@jupyter-widgets/controls",
            "_model_module_version": "1.5.0",
            "value": "",
            "_view_count": null,
            "_view_module_version": "1.5.0",
            "description_tooltip": null,
            "_model_module": "@jupyter-widgets/controls",
            "layout": "IPY_MODEL_0a632d8664ac44b18e78223ef3352443"
          }
        },
        "bf17e671bc094b68884538c4dd596e25": {
          "model_module": "@jupyter-widgets/controls",
          "model_name": "FloatProgressModel",
          "model_module_version": "1.5.0",
          "state": {
            "_view_name": "ProgressView",
            "style": "IPY_MODEL_4d23ac0e74a84ff7b35378e48e993ffe",
            "_dom_classes": [],
            "description": "",
            "_model_name": "FloatProgressModel",
            "bar_style": "success",
            "max": 1648877,
            "_view_module": "@jupyter-widgets/controls",
            "_model_module_version": "1.5.0",
            "value": 1648877,
            "_view_count": null,
            "_view_module_version": "1.5.0",
            "orientation": "horizontal",
            "min": 0,
            "description_tooltip": null,
            "_model_module": "@jupyter-widgets/controls",
            "layout": "IPY_MODEL_e8ed1ef5249243e8b172462829c099e7"
          }
        },
        "16369d3eeeb84dc888124cb85407c1c3": {
          "model_module": "@jupyter-widgets/controls",
          "model_name": "HTMLModel",
          "model_module_version": "1.5.0",
          "state": {
            "_view_name": "HTMLView",
            "style": "IPY_MODEL_51bb765f8b57439d9ce8a40baba13090",
            "_dom_classes": [],
            "description": "",
            "_model_name": "HTMLModel",
            "placeholder": "​",
            "_view_module": "@jupyter-widgets/controls",
            "_model_module_version": "1.5.0",
            "value": " 1649664/? [00:00&lt;00:00, 23698136.51it/s]",
            "_view_count": null,
            "_view_module_version": "1.5.0",
            "description_tooltip": null,
            "_model_module": "@jupyter-widgets/controls",
            "layout": "IPY_MODEL_afdd81b056924ce4bf7b8d493fe33653"
          }
        },
        "4b293045f08a415993f5aa970b9babfd": {
          "model_module": "@jupyter-widgets/controls",
          "model_name": "DescriptionStyleModel",
          "model_module_version": "1.5.0",
          "state": {
            "_view_name": "StyleView",
            "_model_name": "DescriptionStyleModel",
            "description_width": "",
            "_view_module": "@jupyter-widgets/base",
            "_model_module_version": "1.5.0",
            "_view_count": null,
            "_view_module_version": "1.2.0",
            "_model_module": "@jupyter-widgets/controls"
          }
        },
        "0a632d8664ac44b18e78223ef3352443": {
          "model_module": "@jupyter-widgets/base",
          "model_name": "LayoutModel",
          "model_module_version": "1.2.0",
          "state": {
            "_view_name": "LayoutView",
            "grid_template_rows": null,
            "right": null,
            "justify_content": null,
            "_view_module": "@jupyter-widgets/base",
            "overflow": null,
            "_model_module_version": "1.2.0",
            "_view_count": null,
            "flex_flow": null,
            "width": null,
            "min_width": null,
            "border": null,
            "align_items": null,
            "bottom": null,
            "_model_module": "@jupyter-widgets/base",
            "top": null,
            "grid_column": null,
            "overflow_y": null,
            "overflow_x": null,
            "grid_auto_flow": null,
            "grid_area": null,
            "grid_template_columns": null,
            "flex": null,
            "_model_name": "LayoutModel",
            "justify_items": null,
            "grid_row": null,
            "max_height": null,
            "align_content": null,
            "visibility": null,
            "align_self": null,
            "height": null,
            "min_height": null,
            "padding": null,
            "grid_auto_rows": null,
            "grid_gap": null,
            "max_width": null,
            "order": null,
            "_view_module_version": "1.2.0",
            "grid_template_areas": null,
            "object_position": null,
            "object_fit": null,
            "grid_auto_columns": null,
            "margin": null,
            "display": null,
            "left": null
          }
        },
        "4d23ac0e74a84ff7b35378e48e993ffe": {
          "model_module": "@jupyter-widgets/controls",
          "model_name": "ProgressStyleModel",
          "model_module_version": "1.5.0",
          "state": {
            "_view_name": "StyleView",
            "_model_name": "ProgressStyleModel",
            "description_width": "",
            "_view_module": "@jupyter-widgets/base",
            "_model_module_version": "1.5.0",
            "_view_count": null,
            "_view_module_version": "1.2.0",
            "bar_color": null,
            "_model_module": "@jupyter-widgets/controls"
          }
        },
        "e8ed1ef5249243e8b172462829c099e7": {
          "model_module": "@jupyter-widgets/base",
          "model_name": "LayoutModel",
          "model_module_version": "1.2.0",
          "state": {
            "_view_name": "LayoutView",
            "grid_template_rows": null,
            "right": null,
            "justify_content": null,
            "_view_module": "@jupyter-widgets/base",
            "overflow": null,
            "_model_module_version": "1.2.0",
            "_view_count": null,
            "flex_flow": null,
            "width": null,
            "min_width": null,
            "border": null,
            "align_items": null,
            "bottom": null,
            "_model_module": "@jupyter-widgets/base",
            "top": null,
            "grid_column": null,
            "overflow_y": null,
            "overflow_x": null,
            "grid_auto_flow": null,
            "grid_area": null,
            "grid_template_columns": null,
            "flex": null,
            "_model_name": "LayoutModel",
            "justify_items": null,
            "grid_row": null,
            "max_height": null,
            "align_content": null,
            "visibility": null,
            "align_self": null,
            "height": null,
            "min_height": null,
            "padding": null,
            "grid_auto_rows": null,
            "grid_gap": null,
            "max_width": null,
            "order": null,
            "_view_module_version": "1.2.0",
            "grid_template_areas": null,
            "object_position": null,
            "object_fit": null,
            "grid_auto_columns": null,
            "margin": null,
            "display": null,
            "left": null
          }
        },
        "51bb765f8b57439d9ce8a40baba13090": {
          "model_module": "@jupyter-widgets/controls",
          "model_name": "DescriptionStyleModel",
          "model_module_version": "1.5.0",
          "state": {
            "_view_name": "StyleView",
            "_model_name": "DescriptionStyleModel",
            "description_width": "",
            "_view_module": "@jupyter-widgets/base",
            "_model_module_version": "1.5.0",
            "_view_count": null,
            "_view_module_version": "1.2.0",
            "_model_module": "@jupyter-widgets/controls"
          }
        },
        "afdd81b056924ce4bf7b8d493fe33653": {
          "model_module": "@jupyter-widgets/base",
          "model_name": "LayoutModel",
          "model_module_version": "1.2.0",
          "state": {
            "_view_name": "LayoutView",
            "grid_template_rows": null,
            "right": null,
            "justify_content": null,
            "_view_module": "@jupyter-widgets/base",
            "overflow": null,
            "_model_module_version": "1.2.0",
            "_view_count": null,
            "flex_flow": null,
            "width": null,
            "min_width": null,
            "border": null,
            "align_items": null,
            "bottom": null,
            "_model_module": "@jupyter-widgets/base",
            "top": null,
            "grid_column": null,
            "overflow_y": null,
            "overflow_x": null,
            "grid_auto_flow": null,
            "grid_area": null,
            "grid_template_columns": null,
            "flex": null,
            "_model_name": "LayoutModel",
            "justify_items": null,
            "grid_row": null,
            "max_height": null,
            "align_content": null,
            "visibility": null,
            "align_self": null,
            "height": null,
            "min_height": null,
            "padding": null,
            "grid_auto_rows": null,
            "grid_gap": null,
            "max_width": null,
            "order": null,
            "_view_module_version": "1.2.0",
            "grid_template_areas": null,
            "object_position": null,
            "object_fit": null,
            "grid_auto_columns": null,
            "margin": null,
            "display": null,
            "left": null
          }
        },
        "0236b21cc05c47a19d38801165bb689d": {
          "model_module": "@jupyter-widgets/controls",
          "model_name": "HBoxModel",
          "model_module_version": "1.5.0",
          "state": {
            "_view_name": "HBoxView",
            "_dom_classes": [],
            "_model_name": "HBoxModel",
            "_view_module": "@jupyter-widgets/controls",
            "_model_module_version": "1.5.0",
            "_view_count": null,
            "_view_module_version": "1.5.0",
            "box_style": "",
            "layout": "IPY_MODEL_deb5225e903f4224a9c71d1f386433ae",
            "_model_module": "@jupyter-widgets/controls",
            "children": [
              "IPY_MODEL_60eb866056dd4c9bb302977bfe60f625",
              "IPY_MODEL_3317d0cf676d4742b138c230985cc432",
              "IPY_MODEL_5ba423b3a45e44c3b3a2eb4ab6504a95"
            ]
          }
        },
        "deb5225e903f4224a9c71d1f386433ae": {
          "model_module": "@jupyter-widgets/base",
          "model_name": "LayoutModel",
          "model_module_version": "1.2.0",
          "state": {
            "_view_name": "LayoutView",
            "grid_template_rows": null,
            "right": null,
            "justify_content": null,
            "_view_module": "@jupyter-widgets/base",
            "overflow": null,
            "_model_module_version": "1.2.0",
            "_view_count": null,
            "flex_flow": null,
            "width": null,
            "min_width": null,
            "border": null,
            "align_items": null,
            "bottom": null,
            "_model_module": "@jupyter-widgets/base",
            "top": null,
            "grid_column": null,
            "overflow_y": null,
            "overflow_x": null,
            "grid_auto_flow": null,
            "grid_area": null,
            "grid_template_columns": null,
            "flex": null,
            "_model_name": "LayoutModel",
            "justify_items": null,
            "grid_row": null,
            "max_height": null,
            "align_content": null,
            "visibility": null,
            "align_self": null,
            "height": null,
            "min_height": null,
            "padding": null,
            "grid_auto_rows": null,
            "grid_gap": null,
            "max_width": null,
            "order": null,
            "_view_module_version": "1.2.0",
            "grid_template_areas": null,
            "object_position": null,
            "object_fit": null,
            "grid_auto_columns": null,
            "margin": null,
            "display": null,
            "left": null
          }
        },
        "60eb866056dd4c9bb302977bfe60f625": {
          "model_module": "@jupyter-widgets/controls",
          "model_name": "HTMLModel",
          "model_module_version": "1.5.0",
          "state": {
            "_view_name": "HTMLView",
            "style": "IPY_MODEL_5593d08f87204fd4ab6fbfa416d29819",
            "_dom_classes": [],
            "description": "",
            "_model_name": "HTMLModel",
            "placeholder": "​",
            "_view_module": "@jupyter-widgets/controls",
            "_model_module_version": "1.5.0",
            "value": "",
            "_view_count": null,
            "_view_module_version": "1.5.0",
            "description_tooltip": null,
            "_model_module": "@jupyter-widgets/controls",
            "layout": "IPY_MODEL_67495be0fe154d36b9ed72c4bd29d3a8"
          }
        },
        "3317d0cf676d4742b138c230985cc432": {
          "model_module": "@jupyter-widgets/controls",
          "model_name": "FloatProgressModel",
          "model_module_version": "1.5.0",
          "state": {
            "_view_name": "ProgressView",
            "style": "IPY_MODEL_0c3bd388acae438e959bfabb0744cea2",
            "_dom_classes": [],
            "description": "",
            "_model_name": "FloatProgressModel",
            "bar_style": "success",
            "max": 4542,
            "_view_module": "@jupyter-widgets/controls",
            "_model_module_version": "1.5.0",
            "value": 4542,
            "_view_count": null,
            "_view_module_version": "1.5.0",
            "orientation": "horizontal",
            "min": 0,
            "description_tooltip": null,
            "_model_module": "@jupyter-widgets/controls",
            "layout": "IPY_MODEL_411db832824746f9b9d544813a46c77f"
          }
        },
        "5ba423b3a45e44c3b3a2eb4ab6504a95": {
          "model_module": "@jupyter-widgets/controls",
          "model_name": "HTMLModel",
          "model_module_version": "1.5.0",
          "state": {
            "_view_name": "HTMLView",
            "style": "IPY_MODEL_12ccce2b4cc14b72a9bfc40ebc27e5e5",
            "_dom_classes": [],
            "description": "",
            "_model_name": "HTMLModel",
            "placeholder": "​",
            "_view_module": "@jupyter-widgets/controls",
            "_model_module_version": "1.5.0",
            "value": " 5120/? [00:00&lt;00:00, 118018.90it/s]",
            "_view_count": null,
            "_view_module_version": "1.5.0",
            "description_tooltip": null,
            "_model_module": "@jupyter-widgets/controls",
            "layout": "IPY_MODEL_2b83e3c72539456099e1894ad4c59f5f"
          }
        },
        "5593d08f87204fd4ab6fbfa416d29819": {
          "model_module": "@jupyter-widgets/controls",
          "model_name": "DescriptionStyleModel",
          "model_module_version": "1.5.0",
          "state": {
            "_view_name": "StyleView",
            "_model_name": "DescriptionStyleModel",
            "description_width": "",
            "_view_module": "@jupyter-widgets/base",
            "_model_module_version": "1.5.0",
            "_view_count": null,
            "_view_module_version": "1.2.0",
            "_model_module": "@jupyter-widgets/controls"
          }
        },
        "67495be0fe154d36b9ed72c4bd29d3a8": {
          "model_module": "@jupyter-widgets/base",
          "model_name": "LayoutModel",
          "model_module_version": "1.2.0",
          "state": {
            "_view_name": "LayoutView",
            "grid_template_rows": null,
            "right": null,
            "justify_content": null,
            "_view_module": "@jupyter-widgets/base",
            "overflow": null,
            "_model_module_version": "1.2.0",
            "_view_count": null,
            "flex_flow": null,
            "width": null,
            "min_width": null,
            "border": null,
            "align_items": null,
            "bottom": null,
            "_model_module": "@jupyter-widgets/base",
            "top": null,
            "grid_column": null,
            "overflow_y": null,
            "overflow_x": null,
            "grid_auto_flow": null,
            "grid_area": null,
            "grid_template_columns": null,
            "flex": null,
            "_model_name": "LayoutModel",
            "justify_items": null,
            "grid_row": null,
            "max_height": null,
            "align_content": null,
            "visibility": null,
            "align_self": null,
            "height": null,
            "min_height": null,
            "padding": null,
            "grid_auto_rows": null,
            "grid_gap": null,
            "max_width": null,
            "order": null,
            "_view_module_version": "1.2.0",
            "grid_template_areas": null,
            "object_position": null,
            "object_fit": null,
            "grid_auto_columns": null,
            "margin": null,
            "display": null,
            "left": null
          }
        },
        "0c3bd388acae438e959bfabb0744cea2": {
          "model_module": "@jupyter-widgets/controls",
          "model_name": "ProgressStyleModel",
          "model_module_version": "1.5.0",
          "state": {
            "_view_name": "StyleView",
            "_model_name": "ProgressStyleModel",
            "description_width": "",
            "_view_module": "@jupyter-widgets/base",
            "_model_module_version": "1.5.0",
            "_view_count": null,
            "_view_module_version": "1.2.0",
            "bar_color": null,
            "_model_module": "@jupyter-widgets/controls"
          }
        },
        "411db832824746f9b9d544813a46c77f": {
          "model_module": "@jupyter-widgets/base",
          "model_name": "LayoutModel",
          "model_module_version": "1.2.0",
          "state": {
            "_view_name": "LayoutView",
            "grid_template_rows": null,
            "right": null,
            "justify_content": null,
            "_view_module": "@jupyter-widgets/base",
            "overflow": null,
            "_model_module_version": "1.2.0",
            "_view_count": null,
            "flex_flow": null,
            "width": null,
            "min_width": null,
            "border": null,
            "align_items": null,
            "bottom": null,
            "_model_module": "@jupyter-widgets/base",
            "top": null,
            "grid_column": null,
            "overflow_y": null,
            "overflow_x": null,
            "grid_auto_flow": null,
            "grid_area": null,
            "grid_template_columns": null,
            "flex": null,
            "_model_name": "LayoutModel",
            "justify_items": null,
            "grid_row": null,
            "max_height": null,
            "align_content": null,
            "visibility": null,
            "align_self": null,
            "height": null,
            "min_height": null,
            "padding": null,
            "grid_auto_rows": null,
            "grid_gap": null,
            "max_width": null,
            "order": null,
            "_view_module_version": "1.2.0",
            "grid_template_areas": null,
            "object_position": null,
            "object_fit": null,
            "grid_auto_columns": null,
            "margin": null,
            "display": null,
            "left": null
          }
        },
        "12ccce2b4cc14b72a9bfc40ebc27e5e5": {
          "model_module": "@jupyter-widgets/controls",
          "model_name": "DescriptionStyleModel",
          "model_module_version": "1.5.0",
          "state": {
            "_view_name": "StyleView",
            "_model_name": "DescriptionStyleModel",
            "description_width": "",
            "_view_module": "@jupyter-widgets/base",
            "_model_module_version": "1.5.0",
            "_view_count": null,
            "_view_module_version": "1.2.0",
            "_model_module": "@jupyter-widgets/controls"
          }
        },
        "2b83e3c72539456099e1894ad4c59f5f": {
          "model_module": "@jupyter-widgets/base",
          "model_name": "LayoutModel",
          "model_module_version": "1.2.0",
          "state": {
            "_view_name": "LayoutView",
            "grid_template_rows": null,
            "right": null,
            "justify_content": null,
            "_view_module": "@jupyter-widgets/base",
            "overflow": null,
            "_model_module_version": "1.2.0",
            "_view_count": null,
            "flex_flow": null,
            "width": null,
            "min_width": null,
            "border": null,
            "align_items": null,
            "bottom": null,
            "_model_module": "@jupyter-widgets/base",
            "top": null,
            "grid_column": null,
            "overflow_y": null,
            "overflow_x": null,
            "grid_auto_flow": null,
            "grid_area": null,
            "grid_template_columns": null,
            "flex": null,
            "_model_name": "LayoutModel",
            "justify_items": null,
            "grid_row": null,
            "max_height": null,
            "align_content": null,
            "visibility": null,
            "align_self": null,
            "height": null,
            "min_height": null,
            "padding": null,
            "grid_auto_rows": null,
            "grid_gap": null,
            "max_width": null,
            "order": null,
            "_view_module_version": "1.2.0",
            "grid_template_areas": null,
            "object_position": null,
            "object_fit": null,
            "grid_auto_columns": null,
            "margin": null,
            "display": null,
            "left": null
          }
        }
      }
    }
  },
  "cells": [
    {
      "cell_type": "markdown",
      "metadata": {
        "id": "eFlx3niLf8qU"
      },
      "source": [
        "### Pytorch intro."
      ]
    },
    {
      "cell_type": "code",
      "metadata": {
        "id": "RfLOFrBWZbZH"
      },
      "source": [
        "import torch\n",
        "scalar1=torch.tensor([1.])\n",
        "scalar2=torch.tensor([3.])"
      ],
      "execution_count": null,
      "outputs": []
    },
    {
      "cell_type": "code",
      "metadata": {
        "colab": {
          "base_uri": "https://localhost:8080/"
        },
        "id": "qrDACeuBZuFI",
        "outputId": "ca47b8b7-04ae-4877-c9e2-1e8e7208e9d3"
      },
      "source": [
        "add_scalar=scalar1+scalar2\n",
        "print(add_scalar)"
      ],
      "execution_count": null,
      "outputs": [
        {
          "output_type": "stream",
          "name": "stdout",
          "text": [
            "tensor([4.])\n"
          ]
        }
      ]
    },
    {
      "cell_type": "code",
      "metadata": {
        "colab": {
          "base_uri": "https://localhost:8080/"
        },
        "id": "IZ6sOLU7aDdd",
        "outputId": "220f8f13-9d43-47e0-fe1c-7a34d5a9ac5d"
      },
      "source": [
        "torch.add(scalar1, scalar2)"
      ],
      "execution_count": null,
      "outputs": [
        {
          "output_type": "execute_result",
          "data": {
            "text/plain": [
              "tensor([4.])"
            ]
          },
          "metadata": {},
          "execution_count": 5
        }
      ]
    },
    {
      "cell_type": "code",
      "metadata": {
        "colab": {
          "base_uri": "https://localhost:8080/"
        },
        "id": "yigDetOIaIel",
        "outputId": "bb3843d7-c937-4ac5-b8c1-5c29baaac64f"
      },
      "source": [
        "vector1=torch.tensor([1.,2.,3.])\n",
        "vector2=torch.tensor([4.,5.,6.])\n",
        "add_vector=vector1+vector2\n",
        "print(add_vector)"
      ],
      "execution_count": null,
      "outputs": [
        {
          "output_type": "stream",
          "name": "stdout",
          "text": [
            "tensor([5., 7., 9.])\n"
          ]
        }
      ]
    },
    {
      "cell_type": "code",
      "metadata": {
        "colab": {
          "base_uri": "https://localhost:8080/"
        },
        "id": "g5R8RE36aavk",
        "outputId": "8818a5d6-9f1a-493b-a863-0cccfb031ed6"
      },
      "source": [
        "torch.add(vector1,vector2)"
      ],
      "execution_count": null,
      "outputs": [
        {
          "output_type": "execute_result",
          "data": {
            "text/plain": [
              "tensor([5., 7., 9.])"
            ]
          },
          "metadata": {},
          "execution_count": 8
        }
      ]
    },
    {
      "cell_type": "code",
      "metadata": {
        "colab": {
          "base_uri": "https://localhost:8080/"
        },
        "id": "aHY_GfoIajan",
        "outputId": "51bfc229-da72-4afa-c53f-055968b11cb1"
      },
      "source": [
        "matrix1=torch.tensor([[1.,2.], [3.,4.]]) #2x2 matrix\n",
        "matrix2=torch.tensor([[5.,6.], [7.,8.]]) \n",
        "add_matrix=matrix1+matrix2\n",
        "print(add_matrix)"
      ],
      "execution_count": null,
      "outputs": [
        {
          "output_type": "stream",
          "name": "stdout",
          "text": [
            "tensor([[ 6.,  8.],\n",
            "        [10., 12.]])\n"
          ]
        }
      ]
    },
    {
      "cell_type": "markdown",
      "metadata": {
        "id": "rraZTqaRuKc5"
      },
      "source": [
        "## Simple deep learning model using pytorch"
      ]
    },
    {
      "cell_type": "code",
      "metadata": {
        "id": "LefbEEcXbGqn"
      },
      "source": [
        "import torch\n",
        "if torch.cuda.is_available():\n",
        "     DEVICE=torch.device(\"cuda\")\n",
        "else:\n",
        "  DEVICE=torch.device(\"cpu\")"
      ],
      "execution_count": null,
      "outputs": []
    },
    {
      "cell_type": "code",
      "metadata": {
        "id": "mnnyqFaZc7kI"
      },
      "source": [
        "BATCH_SIZE=64\n",
        "INPUT_SIZE=1000\n",
        "HIDDEN_SIZE=100\n",
        "OUTPUT_SIZE=10"
      ],
      "execution_count": null,
      "outputs": []
    },
    {
      "cell_type": "code",
      "metadata": {
        "id": "KkuCFJQDdDqE"
      },
      "source": [
        "x=torch.randn(BATCH_SIZE, INPUT_SIZE, device=DEVICE, dtype=torch.float, requires_grad=False)\n",
        "y=torch.randn(BATCH_SIZE, OUTPUT_SIZE, device=DEVICE, dtype=torch.float, requires_grad=False)\n",
        "w1=torch.randn(INPUT_SIZE, HIDDEN_SIZE, device=DEVICE, dtype=torch.float, requires_grad=True)\n",
        "w2=torch.randn(HIDDEN_SIZE, OUTPUT_SIZE, device=DEVICE, dtype=torch.float, requires_grad=True)"
      ],
      "execution_count": null,
      "outputs": []
    },
    {
      "cell_type": "code",
      "metadata": {
        "colab": {
          "base_uri": "https://localhost:8080/"
        },
        "id": "0edWBL9XeO-N",
        "outputId": "cc3607c0-cd5e-4a5c-bf08-8b9294c3bbb1"
      },
      "source": [
        "learning_rate=1e-6\n",
        "for t in range(1, 501):\n",
        "    y_pred=x.mm(w1).clamp(min=0).mm(w2)\n",
        "\n",
        "    loss=(y_pred-y).pow(2).sum()\n",
        "    if t % 100 ==0:\n",
        "      print(\"Iteration: \", t, \"\\t\", \"Loss: \", loss.item())\n",
        "    loss.backward()\n",
        "\n",
        "    with torch.no_grad():\n",
        "         w1 -= learning_rate*w1.grad\n",
        "         w2 -= learning_rate*w2.grad\n",
        "\n",
        "         w1.grad.zero_()\n",
        "         w2.grad.zero_()\n",
        "#print(w1)\n",
        "#print(w2)"
      ],
      "execution_count": null,
      "outputs": [
        {
          "output_type": "stream",
          "name": "stdout",
          "text": [
            "Iteration:  100 \t Loss:  700.193359375\n",
            "Iteration:  200 \t Loss:  4.718446731567383\n",
            "Iteration:  300 \t Loss:  0.09066484868526459\n",
            "Iteration:  400 \t Loss:  0.002726516919210553\n",
            "Iteration:  500 \t Loss:  0.00023024133406579494\n"
          ]
        }
      ]
    },
    {
      "cell_type": "markdown",
      "metadata": {
        "id": "HCWgEZZeuUsa"
      },
      "source": [
        "### Multi Layer Perceptron (MLP) using MNIST dataset"
      ]
    },
    {
      "cell_type": "code",
      "metadata": {
        "id": "lI2oLLrseqiZ"
      },
      "source": [
        "import numpy as np\n",
        "import matplotlib.pyplot as plt\n",
        "import torch\n",
        "import torch.nn as nn\n",
        "import torch.nn.functional as F\n",
        "from torchvision import transforms, datasets"
      ],
      "execution_count": null,
      "outputs": []
    },
    {
      "cell_type": "code",
      "metadata": {
        "id": "TJzVfb3dkH4a"
      },
      "source": [
        "BATCH_SIZE=32\n",
        "EPOCHS=10"
      ],
      "execution_count": null,
      "outputs": []
    },
    {
      "cell_type": "code",
      "metadata": {
        "colab": {
          "base_uri": "https://localhost:8080/",
          "height": 492,
          "referenced_widgets": [
            "3313f001f1354caab039ed09e7e838ac",
            "a3303ebe90324265b6a2192b962c6452",
            "1d2a950beaa44cc086693c7907efd906",
            "00da1223b4ee4423b3f2ae186288b45a",
            "baa382bbbb354dd4af62485e8b1b59b2",
            "4df400f40c744d0b842b64e1a92a2860",
            "8a4e78b213d74d60a80237b35e39b771",
            "4082c52b8b35427db81dec48f131ea4b",
            "6e04efeb6a9b43288cc92f7594f8b67d",
            "7a7d131697dc4577b3e4705062d26f5e",
            "5b7b440c7fb3438dbd1e12d1c4312a86",
            "217b2d919d6645518e96c8ccb6eb725c",
            "85384ee1cd5a4756b6126afc96babda5",
            "0500b3e0628348a8b7017706224bafd8",
            "e098ca1ce1104fdeaf0c2ebde122c97c",
            "df978944426d4355abd405d6f8a10102",
            "e9ca1ba64db944ea9806eb8ad2dca123",
            "d7610add7cbb47a799f889904f4ca994",
            "a3b413dc574d4044aa1f09155739a4a0",
            "74697852b1154940be4c1f3154fd3d1e",
            "898b81e977e9413ca5cd1b6bdd54e16a",
            "dd542c3057b84eb9968948181aed45bb",
            "063023d0d6f84a6c9f2bc9d335cc3f46",
            "1085237e0ceb4544bafe4b35d4758073",
            "00474b16bf8b444d9d3fee82d444b5cd",
            "bf17e671bc094b68884538c4dd596e25",
            "16369d3eeeb84dc888124cb85407c1c3",
            "4b293045f08a415993f5aa970b9babfd",
            "0a632d8664ac44b18e78223ef3352443",
            "4d23ac0e74a84ff7b35378e48e993ffe",
            "e8ed1ef5249243e8b172462829c099e7",
            "51bb765f8b57439d9ce8a40baba13090",
            "afdd81b056924ce4bf7b8d493fe33653",
            "0236b21cc05c47a19d38801165bb689d",
            "deb5225e903f4224a9c71d1f386433ae",
            "60eb866056dd4c9bb302977bfe60f625",
            "3317d0cf676d4742b138c230985cc432",
            "5ba423b3a45e44c3b3a2eb4ab6504a95",
            "5593d08f87204fd4ab6fbfa416d29819",
            "67495be0fe154d36b9ed72c4bd29d3a8",
            "0c3bd388acae438e959bfabb0744cea2",
            "411db832824746f9b9d544813a46c77f",
            "12ccce2b4cc14b72a9bfc40ebc27e5e5",
            "2b83e3c72539456099e1894ad4c59f5f"
          ]
        },
        "id": "_Qqo0QCkkUGx",
        "outputId": "6e78274f-c0f5-41c1-f466-6f2040566787"
      },
      "source": [
        "train_dataset=datasets.MNIST(root=\"..\", train=True, download=True, transform=transforms.ToTensor())\n",
        "test_dataset=datasets.MNIST(root=\"..\", train=False, download=True, transform=transforms.ToTensor())\n",
        "train_loader=torch.utils.data.DataLoader(dataset=train_dataset, batch_size=BATCH_SIZE, shuffle=True)\n",
        "test_loader=torch.utils.data.DataLoader(dataset=test_dataset, batch_size=BATCH_SIZE, shuffle=False)"
      ],
      "execution_count": null,
      "outputs": [
        {
          "output_type": "stream",
          "name": "stdout",
          "text": [
            "Downloading http://yann.lecun.com/exdb/mnist/train-images-idx3-ubyte.gz\n",
            "Downloading http://yann.lecun.com/exdb/mnist/train-images-idx3-ubyte.gz to ../MNIST/raw/train-images-idx3-ubyte.gz\n"
          ]
        },
        {
          "output_type": "display_data",
          "data": {
            "application/vnd.jupyter.widget-view+json": {
              "model_id": "3313f001f1354caab039ed09e7e838ac",
              "version_minor": 0,
              "version_major": 2
            },
            "text/plain": [
              "  0%|          | 0/9912422 [00:00<?, ?it/s]"
            ]
          },
          "metadata": {}
        },
        {
          "output_type": "stream",
          "name": "stdout",
          "text": [
            "Extracting ../MNIST/raw/train-images-idx3-ubyte.gz to ../MNIST/raw\n",
            "\n",
            "Downloading http://yann.lecun.com/exdb/mnist/train-labels-idx1-ubyte.gz\n",
            "Downloading http://yann.lecun.com/exdb/mnist/train-labels-idx1-ubyte.gz to ../MNIST/raw/train-labels-idx1-ubyte.gz\n"
          ]
        },
        {
          "output_type": "display_data",
          "data": {
            "application/vnd.jupyter.widget-view+json": {
              "model_id": "217b2d919d6645518e96c8ccb6eb725c",
              "version_minor": 0,
              "version_major": 2
            },
            "text/plain": [
              "  0%|          | 0/28881 [00:00<?, ?it/s]"
            ]
          },
          "metadata": {}
        },
        {
          "output_type": "stream",
          "name": "stdout",
          "text": [
            "Extracting ../MNIST/raw/train-labels-idx1-ubyte.gz to ../MNIST/raw\n",
            "\n",
            "Downloading http://yann.lecun.com/exdb/mnist/t10k-images-idx3-ubyte.gz\n",
            "Downloading http://yann.lecun.com/exdb/mnist/t10k-images-idx3-ubyte.gz to ../MNIST/raw/t10k-images-idx3-ubyte.gz\n"
          ]
        },
        {
          "output_type": "display_data",
          "data": {
            "application/vnd.jupyter.widget-view+json": {
              "model_id": "063023d0d6f84a6c9f2bc9d335cc3f46",
              "version_minor": 0,
              "version_major": 2
            },
            "text/plain": [
              "  0%|          | 0/1648877 [00:00<?, ?it/s]"
            ]
          },
          "metadata": {}
        },
        {
          "output_type": "stream",
          "name": "stdout",
          "text": [
            "Extracting ../MNIST/raw/t10k-images-idx3-ubyte.gz to ../MNIST/raw\n",
            "\n",
            "Downloading http://yann.lecun.com/exdb/mnist/t10k-labels-idx1-ubyte.gz\n",
            "Downloading http://yann.lecun.com/exdb/mnist/t10k-labels-idx1-ubyte.gz to ../MNIST/raw/t10k-labels-idx1-ubyte.gz\n"
          ]
        },
        {
          "output_type": "display_data",
          "data": {
            "application/vnd.jupyter.widget-view+json": {
              "model_id": "0236b21cc05c47a19d38801165bb689d",
              "version_minor": 0,
              "version_major": 2
            },
            "text/plain": [
              "  0%|          | 0/4542 [00:00<?, ?it/s]"
            ]
          },
          "metadata": {}
        },
        {
          "output_type": "stream",
          "name": "stdout",
          "text": [
            "Extracting ../MNIST/raw/t10k-labels-idx1-ubyte.gz to ../MNIST/raw\n",
            "\n"
          ]
        },
        {
          "output_type": "stream",
          "name": "stderr",
          "text": [
            "/usr/local/lib/python3.7/dist-packages/torchvision/datasets/mnist.py:498: UserWarning: The given NumPy array is not writeable, and PyTorch does not support non-writeable tensors. This means you can write to the underlying (supposedly non-writeable) NumPy array using the tensor. You may want to copy the array to protect its data or make it writeable before converting it to a tensor. This type of warning will be suppressed for the rest of this program. (Triggered internally at  /pytorch/torch/csrc/utils/tensor_numpy.cpp:180.)\n",
            "  return torch.from_numpy(parsed.astype(m[2], copy=False)).view(*s)\n"
          ]
        }
      ]
    },
    {
      "cell_type": "code",
      "metadata": {
        "colab": {
          "base_uri": "https://localhost:8080/"
        },
        "id": "RHHVkbculNwK",
        "outputId": "cc9f5ef5-8c4c-43fa-ea69-b95b02a17aba"
      },
      "source": [
        "for(X_train, y_train) in train_loader:\n",
        "      print(\"X_train:\", X_train.size(), \"type:\", X_train.type())\n",
        "      print(\"y_train:\", y_train.size(), \"type:\", y_train.type())\n",
        "      break"
      ],
      "execution_count": null,
      "outputs": [
        {
          "output_type": "stream",
          "name": "stdout",
          "text": [
            "X_train: torch.Size([32, 1, 28, 28]) type: torch.FloatTensor\n",
            "y_train: torch.Size([32]) type: torch.LongTensor\n"
          ]
        }
      ]
    },
    {
      "cell_type": "code",
      "metadata": {
        "colab": {
          "base_uri": "https://localhost:8080/",
          "height": 94
        },
        "id": "TM-EoxGilsc2",
        "outputId": "b4856a05-bc72-4247-f014-858847910ccb"
      },
      "source": [
        "pltsize=1\n",
        "plt.figure(figsize=(10*pltsize, pltsize))\n",
        "for i in range(10):\n",
        "     plt.subplot(1, 10, i+1)\n",
        "     plt.axis(\"off\")\n",
        "     plt.imshow(X_train[i, :, :, :].numpy().reshape(28,28), cmap=\"gray_r\")\n",
        "     plt.title(\"class: \"+ str(y_train[i].item()))"
      ],
      "execution_count": null,
      "outputs": [
        {
          "output_type": "display_data",
          "data": {
            "image/png": "[encoded data removed]",
            "text/plain": [
              "<Figure size 720x72 with 10 Axes>"
            ]
          },
          "metadata": {
            "needs_background": "light"
          }
        }
      ]
    },
    {
      "cell_type": "code",
      "metadata": {
        "id": "0u4VTF2qmpSJ"
      },
      "source": [
        "class Net(nn.Module):\n",
        "\n",
        "     def __init__(self):\n",
        "         super(Net, self).__init__()\n",
        "         self.fc1=nn.Linear(28*28, 512)\n",
        "         self.fc2=nn.Linear(512,256)\n",
        "         self.fc3=nn.Linear(256,10)\n",
        "     def forward(self, x):\n",
        "          x=x.view(-1,28*28)\n",
        "          x=self.fc1(x)\n",
        "          x=F.relu(x)\n",
        "          x=self.fc2(x)\n",
        "          x=F.relu(x)\n",
        "          x=self.fc3(x)\n",
        "          x=F.log_softmax(x, dim=1)\n",
        "          return x"
      ],
      "execution_count": null,
      "outputs": []
    },
    {
      "cell_type": "code",
      "metadata": {
        "colab": {
          "base_uri": "https://localhost:8080/"
        },
        "id": "7ToaWh-Fn8Tv",
        "outputId": "9494846e-6604-411f-e39d-b6aba167a6df"
      },
      "source": [
        "model=Net().to(DEVICE)\n",
        "optimizer=torch.optim.SGD(model.parameters(), lr=0.01, momentum=0.5)\n",
        "criterion=nn.CrossEntropyLoss()\n",
        "print(model)"
      ],
      "execution_count": null,
      "outputs": [
        {
          "output_type": "stream",
          "name": "stdout",
          "text": [
            "Net(\n",
            "  (fc1): Linear(in_features=784, out_features=512, bias=True)\n",
            "  (fc2): Linear(in_features=512, out_features=256, bias=True)\n",
            "  (fc3): Linear(in_features=256, out_features=10, bias=True)\n",
            ")\n"
          ]
        }
      ]
    },
    {
      "cell_type": "code",
      "metadata": {
        "id": "9cxhRftdoVYi"
      },
      "source": [
        "def train(model, train_loader, optimizer, log_interval):\n",
        "     model.train()\n",
        "     for batch_idx, (image, label) in enumerate(train_loader):\n",
        "          image=image.to(DEVICE)\n",
        "          label=label.to(DEVICE)\n",
        "          optimizer.zero_grad()\n",
        "          output=model(image)\n",
        "          loss=criterion(output, label)\n",
        "          loss.backward()\n",
        "          optimizer.step()\n",
        "\n",
        "          if batch_idx % log_interval==0:\n",
        "               print(\"train Epoch: {} [{}/{}({:.0f}%)]\\tTrain Loss: {: 6f}\".format(Epoch, batch_idx*len(image), \n",
        "                  len(train_loader.dataset), 100.*batch_idx/len(train_loader), loss.item()))"
      ],
      "execution_count": null,
      "outputs": []
    },
    {
      "cell_type": "code",
      "metadata": {
        "id": "us1XqTwkqMwJ"
      },
      "source": [
        "def evaluate(model, test_loader):\n",
        "     model.eval()\n",
        "     test_loss=0\n",
        "     correct=0\n",
        "\n",
        "     with torch.no_grad():\n",
        "          for image, label in test_loader:\n",
        "              image=image.to(DEVICE)\n",
        "              label=label.to(DEVICE)\n",
        "              output=model(image)\n",
        "              test_loss +=criterion(output, label).item()\n",
        "              prediction= output.max(1, keepdim=True)[1]\n",
        "              correct +=prediction.eq(label.view_as(prediction)).sum().item()\n",
        "     test_loss /=len(test_loader.dataset)\n",
        "     test_accuracy=100.*correct/len(test_loader.dataset)\n",
        "     return test_loss, test_accuracy"
      ],
      "execution_count": null,
      "outputs": []
    },
    {
      "cell_type": "code",
      "metadata": {
        "colab": {
          "base_uri": "https://localhost:8080/"
        },
        "id": "ZGjHuQZRrn34",
        "outputId": "ad393ebe-2c0c-4626-b268-6c56eb157204"
      },
      "source": [
        "for Epoch in range(1, EPOCHS+1):\n",
        "     train(model, train_loader, optimizer, log_interval=200)\n",
        "     test_loss, test_accuracy=evaluate(model, test_loader)\n",
        "     print(\"\\n[EPOCH: {}],\\tTest Loss: {:.4f}), \\tTest Accuracy: {:.2f}%\\n\".format(Epoch, test_loss, test_accuracy))"
      ],
      "execution_count": null,
      "outputs": [
        {
          "output_type": "stream",
          "name": "stdout",
          "text": [
            "train Epoch: 1 [0/60000(0%)]\tTrain Loss:  2.307264\n",
            "train Epoch: 1 [6400/60000(11%)]\tTrain Loss:  1.921047\n",
            "train Epoch: 1 [12800/60000(21%)]\tTrain Loss:  0.960290\n",
            "train Epoch: 1 [19200/60000(32%)]\tTrain Loss:  0.598476\n",
            "train Epoch: 1 [25600/60000(43%)]\tTrain Loss:  0.268459\n",
            "train Epoch: 1 [32000/60000(53%)]\tTrain Loss:  0.377744\n",
            "train Epoch: 1 [38400/60000(64%)]\tTrain Loss:  0.219995\n",
            "train Epoch: 1 [44800/60000(75%)]\tTrain Loss:  0.317007\n",
            "train Epoch: 1 [51200/60000(85%)]\tTrain Loss:  0.314062\n",
            "train Epoch: 1 [57600/60000(96%)]\tTrain Loss:  0.419133\n",
            "\n",
            "[EPOCH: 1],\tTest Loss: 0.0096), \tTest Accuracy: 91.16%\n",
            "\n",
            "train Epoch: 2 [0/60000(0%)]\tTrain Loss:  0.375586\n",
            "train Epoch: 2 [6400/60000(11%)]\tTrain Loss:  0.304387\n",
            "train Epoch: 2 [12800/60000(21%)]\tTrain Loss:  0.253235\n",
            "train Epoch: 2 [19200/60000(32%)]\tTrain Loss:  0.221691\n",
            "train Epoch: 2 [25600/60000(43%)]\tTrain Loss:  0.198669\n",
            "train Epoch: 2 [32000/60000(53%)]\tTrain Loss:  0.176534\n",
            "train Epoch: 2 [38400/60000(64%)]\tTrain Loss:  0.343378\n",
            "train Epoch: 2 [44800/60000(75%)]\tTrain Loss:  0.264562\n",
            "train Epoch: 2 [51200/60000(85%)]\tTrain Loss:  0.301584\n",
            "train Epoch: 2 [57600/60000(96%)]\tTrain Loss:  0.215618\n",
            "\n",
            "[EPOCH: 2],\tTest Loss: 0.0071), \tTest Accuracy: 93.35%\n",
            "\n",
            "train Epoch: 3 [0/60000(0%)]\tTrain Loss:  0.167531\n",
            "train Epoch: 3 [6400/60000(11%)]\tTrain Loss:  0.116920\n",
            "train Epoch: 3 [12800/60000(21%)]\tTrain Loss:  0.143310\n",
            "train Epoch: 3 [19200/60000(32%)]\tTrain Loss:  0.290439\n",
            "train Epoch: 3 [25600/60000(43%)]\tTrain Loss:  0.085509\n",
            "train Epoch: 3 [32000/60000(53%)]\tTrain Loss:  0.106438\n",
            "train Epoch: 3 [38400/60000(64%)]\tTrain Loss:  0.060682\n",
            "train Epoch: 3 [44800/60000(75%)]\tTrain Loss:  0.206835\n",
            "train Epoch: 3 [51200/60000(85%)]\tTrain Loss:  0.235576\n",
            "train Epoch: 3 [57600/60000(96%)]\tTrain Loss:  0.062352\n",
            "\n",
            "[EPOCH: 3],\tTest Loss: 0.0057), \tTest Accuracy: 94.71%\n",
            "\n",
            "train Epoch: 4 [0/60000(0%)]\tTrain Loss:  0.466927\n",
            "train Epoch: 4 [6400/60000(11%)]\tTrain Loss:  0.392580\n",
            "train Epoch: 4 [12800/60000(21%)]\tTrain Loss:  0.358924\n",
            "train Epoch: 4 [19200/60000(32%)]\tTrain Loss:  0.233051\n",
            "train Epoch: 4 [25600/60000(43%)]\tTrain Loss:  0.035108\n",
            "train Epoch: 4 [32000/60000(53%)]\tTrain Loss:  0.458608\n",
            "train Epoch: 4 [38400/60000(64%)]\tTrain Loss:  0.125677\n",
            "train Epoch: 4 [44800/60000(75%)]\tTrain Loss:  0.060372\n",
            "train Epoch: 4 [51200/60000(85%)]\tTrain Loss:  0.155489\n",
            "train Epoch: 4 [57600/60000(96%)]\tTrain Loss:  0.182837\n",
            "\n",
            "[EPOCH: 4],\tTest Loss: 0.0047), \tTest Accuracy: 95.61%\n",
            "\n",
            "train Epoch: 5 [0/60000(0%)]\tTrain Loss:  0.204461\n",
            "train Epoch: 5 [6400/60000(11%)]\tTrain Loss:  0.167948\n",
            "train Epoch: 5 [12800/60000(21%)]\tTrain Loss:  0.273602\n",
            "train Epoch: 5 [19200/60000(32%)]\tTrain Loss:  0.243985\n",
            "train Epoch: 5 [25600/60000(43%)]\tTrain Loss:  0.205279\n",
            "train Epoch: 5 [32000/60000(53%)]\tTrain Loss:  0.039778\n",
            "train Epoch: 5 [38400/60000(64%)]\tTrain Loss:  0.150961\n",
            "train Epoch: 5 [44800/60000(75%)]\tTrain Loss:  0.117115\n",
            "train Epoch: 5 [51200/60000(85%)]\tTrain Loss:  0.040110\n",
            "train Epoch: 5 [57600/60000(96%)]\tTrain Loss:  0.052574\n",
            "\n",
            "[EPOCH: 5],\tTest Loss: 0.0041), \tTest Accuracy: 96.16%\n",
            "\n",
            "train Epoch: 6 [0/60000(0%)]\tTrain Loss:  0.085706\n",
            "train Epoch: 6 [6400/60000(11%)]\tTrain Loss:  0.169569\n",
            "train Epoch: 6 [12800/60000(21%)]\tTrain Loss:  0.065384\n",
            "train Epoch: 6 [19200/60000(32%)]\tTrain Loss:  0.136679\n",
            "train Epoch: 6 [25600/60000(43%)]\tTrain Loss:  0.173781\n",
            "train Epoch: 6 [32000/60000(53%)]\tTrain Loss:  0.259920\n",
            "train Epoch: 6 [38400/60000(64%)]\tTrain Loss:  0.044817\n",
            "train Epoch: 6 [44800/60000(75%)]\tTrain Loss:  0.099512\n",
            "train Epoch: 6 [51200/60000(85%)]\tTrain Loss:  0.160389\n",
            "train Epoch: 6 [57600/60000(96%)]\tTrain Loss:  0.054711\n",
            "\n",
            "[EPOCH: 6],\tTest Loss: 0.0036), \tTest Accuracy: 96.52%\n",
            "\n",
            "train Epoch: 7 [0/60000(0%)]\tTrain Loss:  0.056726\n",
            "train Epoch: 7 [6400/60000(11%)]\tTrain Loss:  0.036115\n",
            "train Epoch: 7 [12800/60000(21%)]\tTrain Loss:  0.019142\n",
            "train Epoch: 7 [19200/60000(32%)]\tTrain Loss:  0.117004\n",
            "train Epoch: 7 [25600/60000(43%)]\tTrain Loss:  0.134551\n",
            "train Epoch: 7 [32000/60000(53%)]\tTrain Loss:  0.046590\n",
            "train Epoch: 7 [38400/60000(64%)]\tTrain Loss:  0.116691\n",
            "train Epoch: 7 [44800/60000(75%)]\tTrain Loss:  0.014681\n",
            "train Epoch: 7 [51200/60000(85%)]\tTrain Loss:  0.059967\n",
            "train Epoch: 7 [57600/60000(96%)]\tTrain Loss:  0.195263\n",
            "\n",
            "[EPOCH: 7],\tTest Loss: 0.0033), \tTest Accuracy: 96.71%\n",
            "\n",
            "train Epoch: 8 [0/60000(0%)]\tTrain Loss:  0.099777\n",
            "train Epoch: 8 [6400/60000(11%)]\tTrain Loss:  0.020203\n",
            "train Epoch: 8 [12800/60000(21%)]\tTrain Loss:  0.025834\n",
            "train Epoch: 8 [19200/60000(32%)]\tTrain Loss:  0.042767\n",
            "train Epoch: 8 [25600/60000(43%)]\tTrain Loss:  0.201884\n",
            "train Epoch: 8 [32000/60000(53%)]\tTrain Loss:  0.162732\n",
            "train Epoch: 8 [38400/60000(64%)]\tTrain Loss:  0.138423\n",
            "train Epoch: 8 [44800/60000(75%)]\tTrain Loss:  0.174509\n",
            "train Epoch: 8 [51200/60000(85%)]\tTrain Loss:  0.101162\n",
            "train Epoch: 8 [57600/60000(96%)]\tTrain Loss:  0.081346\n",
            "\n",
            "[EPOCH: 8],\tTest Loss: 0.0029), \tTest Accuracy: 97.03%\n",
            "\n",
            "train Epoch: 9 [0/60000(0%)]\tTrain Loss:  0.137501\n",
            "train Epoch: 9 [6400/60000(11%)]\tTrain Loss:  0.062417\n",
            "train Epoch: 9 [12800/60000(21%)]\tTrain Loss:  0.011178\n",
            "train Epoch: 9 [19200/60000(32%)]\tTrain Loss:  0.060121\n",
            "train Epoch: 9 [25600/60000(43%)]\tTrain Loss:  0.080659\n",
            "train Epoch: 9 [32000/60000(53%)]\tTrain Loss:  0.087254\n",
            "train Epoch: 9 [38400/60000(64%)]\tTrain Loss:  0.014862\n",
            "train Epoch: 9 [44800/60000(75%)]\tTrain Loss:  0.061645\n",
            "train Epoch: 9 [51200/60000(85%)]\tTrain Loss:  0.523218\n",
            "train Epoch: 9 [57600/60000(96%)]\tTrain Loss:  0.028144\n",
            "\n",
            "[EPOCH: 9],\tTest Loss: 0.0028), \tTest Accuracy: 97.25%\n",
            "\n",
            "train Epoch: 10 [0/60000(0%)]\tTrain Loss:  0.151325\n",
            "train Epoch: 10 [6400/60000(11%)]\tTrain Loss:  0.111184\n",
            "train Epoch: 10 [12800/60000(21%)]\tTrain Loss:  0.017027\n",
            "train Epoch: 10 [19200/60000(32%)]\tTrain Loss:  0.057479\n",
            "train Epoch: 10 [25600/60000(43%)]\tTrain Loss:  0.080290\n",
            "train Epoch: 10 [32000/60000(53%)]\tTrain Loss:  0.243666\n",
            "train Epoch: 10 [38400/60000(64%)]\tTrain Loss:  0.029792\n",
            "train Epoch: 10 [44800/60000(75%)]\tTrain Loss:  0.018381\n",
            "train Epoch: 10 [51200/60000(85%)]\tTrain Loss:  0.108011\n",
            "train Epoch: 10 [57600/60000(96%)]\tTrain Loss:  0.094778\n",
            "\n",
            "[EPOCH: 10],\tTest Loss: 0.0026), \tTest Accuracy: 97.52%\n",
            "\n"
          ]
        }
      ]
    },
    {
      "cell_type": "markdown",
      "metadata": {
        "id": "ZhsYeyd0dsRH"
      },
      "source": [
        "### keras code 1 "
      ]
    },
    {
      "cell_type": "code",
      "metadata": {
        "id": "3kG1rXUiZe3m"
      },
      "source": [
        "from keras.datasets import mnist\n",
        "(train_images, train_labels), (test_images, test_labels) = mnist.load_data()"
      ],
      "execution_count": 49,
      "outputs": []
    },
    {
      "cell_type": "code",
      "metadata": {
        "colab": {
          "base_uri": "https://localhost:8080/",
          "height": 0
        },
        "id": "TZ1ZnAEqZg1I",
        "outputId": "20d40b7e-472b-4e33-e1bb-d09b5eeb006f"
      },
      "source": [
        "train_images.shape"
      ],
      "execution_count": 2,
      "outputs": [
        {
          "output_type": "execute_result",
          "data": {
            "text/plain": [
              "(60000, 28, 28)"
            ]
          },
          "metadata": {},
          "execution_count": 2
        }
      ]
    },
    {
      "cell_type": "code",
      "metadata": {
        "colab": {
          "base_uri": "https://localhost:8080/",
          "height": 0
        },
        "id": "wIZu91hwZl_u",
        "outputId": "817d5c01-7372-4d88-dedb-3a6e1d310bc4"
      },
      "source": [
        "test_images.shape"
      ],
      "execution_count": 3,
      "outputs": [
        {
          "output_type": "execute_result",
          "data": {
            "text/plain": [
              "(10000, 28, 28)"
            ]
          },
          "metadata": {},
          "execution_count": 3
        }
      ]
    },
    {
      "cell_type": "code",
      "metadata": {
        "colab": {
          "base_uri": "https://localhost:8080/",
          "height": 0
        },
        "id": "bCOStzdlZqzo",
        "outputId": "125b24b5-3439-4aa5-ba1b-d35d1a397dc8"
      },
      "source": [
        "len(train_labels)"
      ],
      "execution_count": 4,
      "outputs": [
        {
          "output_type": "execute_result",
          "data": {
            "text/plain": [
              "60000"
            ]
          },
          "metadata": {},
          "execution_count": 4
        }
      ]
    },
    {
      "cell_type": "code",
      "metadata": {
        "colab": {
          "base_uri": "https://localhost:8080/",
          "height": 0
        },
        "id": "M2twBHdSaSCK",
        "outputId": "207a6698-48c0-4847-b96f-1867bf238fbd"
      },
      "source": [
        "train_labels"
      ],
      "execution_count": 5,
      "outputs": [
        {
          "output_type": "execute_result",
          "data": {
            "text/plain": [
              "array([5, 0, 4, ..., 5, 6, 8], dtype=uint8)"
            ]
          },
          "metadata": {},
          "execution_count": 5
        }
      ]
    },
    {
      "cell_type": "code",
      "metadata": {
        "id": "COkyIo9VaX6W"
      },
      "source": [
        "from keras import models\n",
        "from keras import layers\n",
        "network = models.Sequential()\n",
        "network.add(layers.Dense(512, activation='relu', input_shape=(28 * 28,)))\n",
        "network.add(layers.Dense(256, activation='relu'))\n",
        "network.add(layers.Dense(10, activation='softmax'))"
      ],
      "execution_count": 6,
      "outputs": []
    },
    {
      "cell_type": "code",
      "metadata": {
        "id": "A_6fjcdGacJJ"
      },
      "source": [
        "network.compile(optimizer='rmsprop',\n",
        "loss='categorical_crossentropy',\n",
        "metrics=['accuracy'])"
      ],
      "execution_count": 7,
      "outputs": []
    },
    {
      "cell_type": "code",
      "metadata": {
        "id": "hpdDQnFdafsP"
      },
      "source": [
        "train_images = train_images.reshape((60000, 28 * 28))\n",
        "train_images = train_images.astype('float32') / 255\n",
        "test_images = test_images.reshape((10000, 28 * 28))\n",
        "test_images = test_images.astype('float32') / 255"
      ],
      "execution_count": 8,
      "outputs": []
    },
    {
      "cell_type": "code",
      "metadata": {
        "colab": {
          "base_uri": "https://localhost:8080/"
        },
        "id": "HFSsYeLsbB2T",
        "outputId": "d5589e67-4208-4074-e967-435d2bc1791f"
      },
      "source": [
        "!pip install keras.utils\n",
        "import keras.utils"
      ],
      "execution_count": null,
      "outputs": [
        {
          "output_type": "stream",
          "name": "stdout",
          "text": [
            "Requirement already satisfied: keras.utils in /usr/local/lib/python3.7/dist-packages (1.0.13)\n",
            "Requirement already satisfied: Keras>=2.1.5 in /usr/local/lib/python3.7/dist-packages (from keras.utils) (2.6.0)\n"
          ]
        }
      ]
    },
    {
      "cell_type": "code",
      "metadata": {
        "id": "0B-S8Vx3ajUF"
      },
      "source": [
        " from tensorflow.keras.utils import to_categorical\n",
        "train_labels = to_categorical(train_labels)\n",
        "test_labels = to_categorical(test_labels)"
      ],
      "execution_count": 9,
      "outputs": []
    },
    {
      "cell_type": "code",
      "metadata": {
        "colab": {
          "base_uri": "https://localhost:8080/",
          "height": 0
        },
        "id": "0nMytdawcOCY",
        "outputId": "90a7b27c-ab12-4097-a0a0-102ad52b72da"
      },
      "source": [
        " network.fit(train_images, train_labels, epochs=10, batch_size=32)"
      ],
      "execution_count": 10,
      "outputs": [
        {
          "output_type": "stream",
          "name": "stdout",
          "text": [
            "Epoch 1/10\n",
            "1875/1875 [==============================] - 10s 5ms/step - loss: 0.1896 - accuracy: 0.9431\n",
            "Epoch 2/10\n",
            "1875/1875 [==============================] - 10s 5ms/step - loss: 0.0947 - accuracy: 0.9745\n",
            "Epoch 3/10\n",
            "1875/1875 [==============================] - 10s 5ms/step - loss: 0.0750 - accuracy: 0.9806\n",
            "Epoch 4/10\n",
            "1875/1875 [==============================] - 10s 5ms/step - loss: 0.0651 - accuracy: 0.9842\n",
            "Epoch 5/10\n",
            "1875/1875 [==============================] - 10s 5ms/step - loss: 0.0573 - accuracy: 0.9865\n",
            "Epoch 6/10\n",
            "1875/1875 [==============================] - 10s 5ms/step - loss: 0.0524 - accuracy: 0.9882\n",
            "Epoch 7/10\n",
            "1875/1875 [==============================] - 10s 5ms/step - loss: 0.0464 - accuracy: 0.9897\n",
            "Epoch 8/10\n",
            "1875/1875 [==============================] - 10s 5ms/step - loss: 0.0438 - accuracy: 0.9908\n",
            "Epoch 9/10\n",
            "1875/1875 [==============================] - 10s 5ms/step - loss: 0.0380 - accuracy: 0.9922\n",
            "Epoch 10/10\n",
            "1875/1875 [==============================] - 10s 5ms/step - loss: 0.0353 - accuracy: 0.9925\n"
          ]
        },
        {
          "output_type": "execute_result",
          "data": {
            "text/plain": [
              "<keras.callbacks.History at 0x7fc949946ed0>"
            ]
          },
          "metadata": {},
          "execution_count": 10
        }
      ]
    },
    {
      "cell_type": "code",
      "metadata": {
        "colab": {
          "base_uri": "https://localhost:8080/",
          "height": 0
        },
        "id": "3L69wylNcQvF",
        "outputId": "8708c614-6cae-45c7-ef46-1641c3e15d23"
      },
      "source": [
        "test_loss, test_acc = network.evaluate(test_images, test_labels)\n",
        "print('test_acc:', test_acc)"
      ],
      "execution_count": 11,
      "outputs": [
        {
          "output_type": "stream",
          "name": "stdout",
          "text": [
            "313/313 [==============================] - 1s 2ms/step - loss: 0.2318 - accuracy: 0.9772\n",
            "test_acc: 0.9771999716758728\n"
          ]
        }
      ]
    },
    {
      "cell_type": "markdown",
      "metadata": {
        "id": "hMD2MzHyTC5F"
      },
      "source": [
        "### Keras code2"
      ]
    },
    {
      "cell_type": "code",
      "metadata": {
        "id": "SDxWjXy5TBpQ"
      },
      "source": [
        "from keras.datasets import mnist\n",
        "(train_images, train_labels), (test_images, test_labels) = mnist.load_data()"
      ],
      "execution_count": null,
      "outputs": []
    },
    {
      "cell_type": "code",
      "metadata": {
        "id": "5VkK4v8ZOGKE"
      },
      "source": [
        "valid_images, train_images=train_images[:5000]/255.0, train_images[5000:]/255.0\n",
        "valid_labels, train_labels=train_labels[:5000], train_labels[5000:]\n",
        "test_images=test_images/255.0"
      ],
      "execution_count": 50,
      "outputs": []
    },
    {
      "cell_type": "code",
      "metadata": {
        "id": "k_aWCDgvNxF6"
      },
      "source": [
        "from keras import models\n",
        "from keras import layers\n",
        "network = models.Sequential()\n",
        "network.add(layers.Flatten(input_shape=[28*28]))\n",
        "network.add(layers.Dense(512, activation='relu'))\n",
        "network.add(layers.Dense(256, activation='relu'))\n",
        "network.add(layers.Dense(10, activation='softmax'))"
      ],
      "execution_count": 51,
      "outputs": []
    },
    {
      "cell_type": "code",
      "metadata": {
        "colab": {
          "base_uri": "https://localhost:8080/",
          "height": 0
        },
        "id": "RY7e442KN_7z",
        "outputId": "e7d18806-62ad-4d0a-8194-11116a0aca56"
      },
      "source": [
        "network.summary()"
      ],
      "execution_count": 52,
      "outputs": [
        {
          "output_type": "stream",
          "name": "stdout",
          "text": [
            "Model: \"sequential_4\"\n",
            "_________________________________________________________________\n",
            "Layer (type)                 Output Shape              Param #   \n",
            "=================================================================\n",
            "flatten_3 (Flatten)          (None, 784)               0         \n",
            "_________________________________________________________________\n",
            "dense_12 (Dense)             (None, 512)               401920    \n",
            "_________________________________________________________________\n",
            "dense_13 (Dense)             (None, 256)               131328    \n",
            "_________________________________________________________________\n",
            "dense_14 (Dense)             (None, 10)                2570      \n",
            "=================================================================\n",
            "Total params: 535,818\n",
            "Trainable params: 535,818\n",
            "Non-trainable params: 0\n",
            "_________________________________________________________________\n"
          ]
        }
      ]
    },
    {
      "cell_type": "code",
      "metadata": {
        "colab": {
          "base_uri": "https://localhost:8080/",
          "height": 0
        },
        "id": "Vneq0tszPWpg",
        "outputId": "c74f8186-e5c9-4983-d206-b43e92034c36"
      },
      "source": [
        "network.layers"
      ],
      "execution_count": 53,
      "outputs": [
        {
          "output_type": "execute_result",
          "data": {
            "text/plain": [
              "[<keras.layers.core.Flatten at 0x7fc9385de590>,\n",
              " <keras.layers.core.Dense at 0x7fc9385d8510>,\n",
              " <keras.layers.core.Dense at 0x7fc9385dee10>,\n",
              " <keras.layers.core.Dense at 0x7fc9385e5350>]"
            ]
          },
          "metadata": {},
          "execution_count": 53
        }
      ]
    },
    {
      "cell_type": "code",
      "metadata": {
        "colab": {
          "base_uri": "https://localhost:8080/",
          "height": 35
        },
        "id": "wE2deZtDPZhx",
        "outputId": "9fca056d-46ce-4159-da8f-6db84e3c53c7"
      },
      "source": [
        "hidden1=network.layers[1]\n",
        "hidden1.name"
      ],
      "execution_count": 42,
      "outputs": [
        {
          "output_type": "execute_result",
          "data": {
            "application/vnd.google.colaboratory.intrinsic+json": {
              "type": "string"
            },
            "text/plain": [
              "'dense_9'"
            ]
          },
          "metadata": {},
          "execution_count": 42
        }
      ]
    },
    {
      "cell_type": "code",
      "metadata": {
        "colab": {
          "base_uri": "https://localhost:8080/",
          "height": 0
        },
        "id": "GcWmmok_PugU",
        "outputId": "6c3593fd-b387-4c70-8bd6-c144e0800380"
      },
      "source": [
        "weights, biases=hidden1.get_weights()\n",
        "weights"
      ],
      "execution_count": 43,
      "outputs": [
        {
          "output_type": "execute_result",
          "data": {
            "text/plain": [
              "array([[ 0.01849821, -0.06663666,  0.00192888, ...,  0.06622045,\n",
              "         0.02369482, -0.06187632],\n",
              "       [-0.06407128,  0.06064926, -0.00606798, ...,  0.05443891,\n",
              "        -0.03029243,  0.04703661],\n",
              "       [-0.05138426, -0.03913103, -0.0159838 , ...,  0.05260303,\n",
              "         0.01453852,  0.01310901],\n",
              "       ...,\n",
              "       [ 0.05149112, -0.02226015, -0.06303842, ...,  0.01189462,\n",
              "         0.01160786, -0.04169525],\n",
              "       [-0.06431752,  0.0194836 ,  0.06202847, ..., -0.04459525,\n",
              "         0.05706735,  0.01055623],\n",
              "       [ 0.00263814, -0.02282318, -0.0141426 , ..., -0.06238539,\n",
              "         0.03453089,  0.05463314]], dtype=float32)"
            ]
          },
          "metadata": {},
          "execution_count": 43
        }
      ]
    },
    {
      "cell_type": "code",
      "metadata": {
        "colab": {
          "base_uri": "https://localhost:8080/",
          "height": 0
        },
        "id": "f0MeSzyZP4nW",
        "outputId": "44f8e02a-e503-4d1a-fa83-4b433eb545b9"
      },
      "source": [
        "weights.shape"
      ],
      "execution_count": 44,
      "outputs": [
        {
          "output_type": "execute_result",
          "data": {
            "text/plain": [
              "(784, 512)"
            ]
          },
          "metadata": {},
          "execution_count": 44
        }
      ]
    },
    {
      "cell_type": "code",
      "metadata": {
        "colab": {
          "base_uri": "https://localhost:8080/",
          "height": 0
        },
        "id": "3Ldptu8ZP7AN",
        "outputId": "4584353a-4995-414f-d098-84d6efa317fa"
      },
      "source": [
        "biases"
      ],
      "execution_count": 45,
      "outputs": [
        {
          "output_type": "execute_result",
          "data": {
            "text/plain": [
              "array([0., 0., 0., 0., 0., 0., 0., 0., 0., 0., 0., 0., 0., 0., 0., 0., 0.,\n",
              "       0., 0., 0., 0., 0., 0., 0., 0., 0., 0., 0., 0., 0., 0., 0., 0., 0.,\n",
              "       0., 0., 0., 0., 0., 0., 0., 0., 0., 0., 0., 0., 0., 0., 0., 0., 0.,\n",
              "       0., 0., 0., 0., 0., 0., 0., 0., 0., 0., 0., 0., 0., 0., 0., 0., 0.,\n",
              "       0., 0., 0., 0., 0., 0., 0., 0., 0., 0., 0., 0., 0., 0., 0., 0., 0.,\n",
              "       0., 0., 0., 0., 0., 0., 0., 0., 0., 0., 0., 0., 0., 0., 0., 0., 0.,\n",
              "       0., 0., 0., 0., 0., 0., 0., 0., 0., 0., 0., 0., 0., 0., 0., 0., 0.,\n",
              "       0., 0., 0., 0., 0., 0., 0., 0., 0., 0., 0., 0., 0., 0., 0., 0., 0.,\n",
              "       0., 0., 0., 0., 0., 0., 0., 0., 0., 0., 0., 0., 0., 0., 0., 0., 0.,\n",
              "       0., 0., 0., 0., 0., 0., 0., 0., 0., 0., 0., 0., 0., 0., 0., 0., 0.,\n",
              "       0., 0., 0., 0., 0., 0., 0., 0., 0., 0., 0., 0., 0., 0., 0., 0., 0.,\n",
              "       0., 0., 0., 0., 0., 0., 0., 0., 0., 0., 0., 0., 0., 0., 0., 0., 0.,\n",
              "       0., 0., 0., 0., 0., 0., 0., 0., 0., 0., 0., 0., 0., 0., 0., 0., 0.,\n",
              "       0., 0., 0., 0., 0., 0., 0., 0., 0., 0., 0., 0., 0., 0., 0., 0., 0.,\n",
              "       0., 0., 0., 0., 0., 0., 0., 0., 0., 0., 0., 0., 0., 0., 0., 0., 0.,\n",
              "       0., 0., 0., 0., 0., 0., 0., 0., 0., 0., 0., 0., 0., 0., 0., 0., 0.,\n",
              "       0., 0., 0., 0., 0., 0., 0., 0., 0., 0., 0., 0., 0., 0., 0., 0., 0.,\n",
              "       0., 0., 0., 0., 0., 0., 0., 0., 0., 0., 0., 0., 0., 0., 0., 0., 0.,\n",
              "       0., 0., 0., 0., 0., 0., 0., 0., 0., 0., 0., 0., 0., 0., 0., 0., 0.,\n",
              "       0., 0., 0., 0., 0., 0., 0., 0., 0., 0., 0., 0., 0., 0., 0., 0., 0.,\n",
              "       0., 0., 0., 0., 0., 0., 0., 0., 0., 0., 0., 0., 0., 0., 0., 0., 0.,\n",
              "       0., 0., 0., 0., 0., 0., 0., 0., 0., 0., 0., 0., 0., 0., 0., 0., 0.,\n",
              "       0., 0., 0., 0., 0., 0., 0., 0., 0., 0., 0., 0., 0., 0., 0., 0., 0.,\n",
              "       0., 0., 0., 0., 0., 0., 0., 0., 0., 0., 0., 0., 0., 0., 0., 0., 0.,\n",
              "       0., 0., 0., 0., 0., 0., 0., 0., 0., 0., 0., 0., 0., 0., 0., 0., 0.,\n",
              "       0., 0., 0., 0., 0., 0., 0., 0., 0., 0., 0., 0., 0., 0., 0., 0., 0.,\n",
              "       0., 0., 0., 0., 0., 0., 0., 0., 0., 0., 0., 0., 0., 0., 0., 0., 0.,\n",
              "       0., 0., 0., 0., 0., 0., 0., 0., 0., 0., 0., 0., 0., 0., 0., 0., 0.,\n",
              "       0., 0., 0., 0., 0., 0., 0., 0., 0., 0., 0., 0., 0., 0., 0., 0., 0.,\n",
              "       0., 0., 0., 0., 0., 0., 0., 0., 0., 0., 0., 0., 0., 0., 0., 0., 0.,\n",
              "       0., 0.], dtype=float32)"
            ]
          },
          "metadata": {},
          "execution_count": 45
        }
      ]
    },
    {
      "cell_type": "code",
      "metadata": {
        "colab": {
          "base_uri": "https://localhost:8080/",
          "height": 0
        },
        "id": "GhrjBaphP890",
        "outputId": "a78ab3e1-ce73-430b-d579-782309e5b104"
      },
      "source": [
        "biases.shape"
      ],
      "execution_count": 46,
      "outputs": [
        {
          "output_type": "execute_result",
          "data": {
            "text/plain": [
              "(512,)"
            ]
          },
          "metadata": {},
          "execution_count": 46
        }
      ]
    },
    {
      "cell_type": "code",
      "metadata": {
        "id": "qykxyLNdQDNe"
      },
      "source": [
        "network.compile(optimizer='rmsprop',\n",
        "loss='sparse_categorical_crossentropy',\n",
        "metrics=['accuracy'])"
      ],
      "execution_count": 54,
      "outputs": []
    },
    {
      "cell_type": "code",
      "metadata": {
        "colab": {
          "base_uri": "https://localhost:8080/",
          "height": 0
        },
        "id": "xO_UAqZmQUiR",
        "outputId": "c864a16d-ae4b-4225-e597-cc26b88de9df"
      },
      "source": [
        "history=network.fit(train_images, train_labels, epochs=10, validation_data=(valid_images, valid_labels))"
      ],
      "execution_count": 55,
      "outputs": [
        {
          "output_type": "stream",
          "name": "stdout",
          "text": [
            "Epoch 1/10\n",
            "WARNING:tensorflow:Model was constructed with shape (None, 784) for input KerasTensor(type_spec=TensorSpec(shape=(None, 784), dtype=tf.float32, name='flatten_3_input'), name='flatten_3_input', description=\"created by layer 'flatten_3_input'\"), but it was called on an input with incompatible shape (None, 28, 28).\n",
            "WARNING:tensorflow:Model was constructed with shape (None, 784) for input KerasTensor(type_spec=TensorSpec(shape=(None, 784), dtype=tf.float32, name='flatten_3_input'), name='flatten_3_input', description=\"created by layer 'flatten_3_input'\"), but it was called on an input with incompatible shape (None, 28, 28).\n",
            "1711/1719 [============================>.] - ETA: 0s - loss: 0.1992 - accuracy: 0.9406WARNING:tensorflow:Model was constructed with shape (None, 784) for input KerasTensor(type_spec=TensorSpec(shape=(None, 784), dtype=tf.float32, name='flatten_3_input'), name='flatten_3_input', description=\"created by layer 'flatten_3_input'\"), but it was called on an input with incompatible shape (None, 28, 28).\n",
            "1719/1719 [==============================] - 10s 6ms/step - loss: 0.1988 - accuracy: 0.9407 - val_loss: 0.1196 - val_accuracy: 0.9652\n",
            "Epoch 2/10\n",
            "1719/1719 [==============================] - 9s 5ms/step - loss: 0.0957 - accuracy: 0.9736 - val_loss: 0.0998 - val_accuracy: 0.9754\n",
            "Epoch 3/10\n",
            "1719/1719 [==============================] - 9s 5ms/step - loss: 0.0763 - accuracy: 0.9804 - val_loss: 0.0820 - val_accuracy: 0.9820\n",
            "Epoch 4/10\n",
            "1719/1719 [==============================] - 9s 5ms/step - loss: 0.0644 - accuracy: 0.9837 - val_loss: 0.1059 - val_accuracy: 0.9776\n",
            "Epoch 5/10\n",
            "1719/1719 [==============================] - 9s 5ms/step - loss: 0.0538 - accuracy: 0.9868 - val_loss: 0.1209 - val_accuracy: 0.9816\n",
            "Epoch 6/10\n",
            "1719/1719 [==============================] - 9s 5ms/step - loss: 0.0466 - accuracy: 0.9886 - val_loss: 0.1360 - val_accuracy: 0.9790\n",
            "Epoch 7/10\n",
            "1719/1719 [==============================] - 9s 5ms/step - loss: 0.0437 - accuracy: 0.9900 - val_loss: 0.1580 - val_accuracy: 0.9810\n",
            "Epoch 8/10\n",
            "1719/1719 [==============================] - 9s 5ms/step - loss: 0.0388 - accuracy: 0.9912 - val_loss: 0.1554 - val_accuracy: 0.9772\n",
            "Epoch 9/10\n",
            "1719/1719 [==============================] - 9s 5ms/step - loss: 0.0364 - accuracy: 0.9926 - val_loss: 0.2007 - val_accuracy: 0.9782\n",
            "Epoch 10/10\n",
            "1719/1719 [==============================] - 9s 5ms/step - loss: 0.0333 - accuracy: 0.9928 - val_loss: 0.1327 - val_accuracy: 0.9828\n"
          ]
        }
      ]
    },
    {
      "cell_type": "code",
      "metadata": {
        "colab": {
          "base_uri": "https://localhost:8080/",
          "height": 324
        },
        "id": "8PO7Vt-hTnw8",
        "outputId": "a8d5bd72-294b-4817-e5fa-ae16ede870a4"
      },
      "source": [
        "import pandas as pd\n",
        "import matplotlib.pyplot as plt\n",
        "\n",
        "pd.DataFrame(history.history).plot(figsize=(8,5))\n",
        "plt.grid(True)\n",
        "plt.gca().set_ylim(0,1)\n",
        "plt.show()\n"
      ],
      "execution_count": 58,
      "outputs": [
        {
          "output_type": "display_data",
          "data": {
            "image/png": "[encoded data removed]",
            "text/plain": [
              "<Figure size 576x360 with 1 Axes>"
            ]
          },
          "metadata": {
            "needs_background": "light"
          }
        }
      ]
    },
    {
      "cell_type": "code",
      "metadata": {
        "colab": {
          "base_uri": "https://localhost:8080/",
          "height": 0
        },
        "id": "U-NyMnXvUnF0",
        "outputId": "2077aabf-053b-4cb0-b750-e24abaab4721"
      },
      "source": [
        "network.evaluate(test_images, test_labels)"
      ],
      "execution_count": 61,
      "outputs": [
        {
          "output_type": "stream",
          "name": "stdout",
          "text": [
            "313/313 [==============================] - 1s 2ms/step - loss: 0.1593 - accuracy: 0.9804\n"
          ]
        },
        {
          "output_type": "execute_result",
          "data": {
            "text/plain": [
              "[0.1592901200056076, 0.980400025844574]"
            ]
          },
          "metadata": {},
          "execution_count": 61
        }
      ]
    },
    {
      "cell_type": "code",
      "metadata": {
        "colab": {
          "base_uri": "https://localhost:8080/"
        },
        "id": "IuLiVQMNqSLV",
        "outputId": "5470c0c6-cd19-4846-8503-c27991d6b33f"
      },
      "source": [
        "image_new=test_images[:3]\n",
        "predict_labels=network.predict(image_new)\n",
        "predict_labels.round(2)"
      ],
      "execution_count": 65,
      "outputs": [
        {
          "output_type": "execute_result",
          "data": {
            "text/plain": [
              "array([[0., 0., 0., 0., 0., 0., 0., 1., 0., 0.],\n",
              "       [0., 0., 1., 0., 0., 0., 0., 0., 0., 0.],\n",
              "       [0., 1., 0., 0., 0., 0., 0., 0., 0., 0.]], dtype=float32)"
            ]
          },
          "metadata": {},
          "execution_count": 65
        }
      ]
    },
    {
      "cell_type": "code",
      "metadata": {
        "colab": {
          "base_uri": "https://localhost:8080/"
        },
        "id": "03D3E4-rq2hZ",
        "outputId": "d40ff074-ef19-4eb1-b373-f5f66fc97a09"
      },
      "source": [
        "test_labels[:3]"
      ],
      "execution_count": 67,
      "outputs": [
        {
          "output_type": "execute_result",
          "data": {
            "text/plain": [
              "array([7, 2, 1], dtype=uint8)"
            ]
          },
          "metadata": {},
          "execution_count": 67
        }
      ]
    }
  ]
}